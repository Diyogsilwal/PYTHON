{
 "cells": [
  {
   "cell_type": "code",
   "execution_count": 1,
   "id": "c15eb31f",
   "metadata": {},
   "outputs": [
    {
     "name": "stdout",
     "output_type": "stream",
     "text": [
      "<class 'str'>\n"
     ]
    }
   ],
   "source": [
    "#string\n",
    "a = 'hello world'\n",
    "b = 'hello world'\n",
    "print(type(a))"
   ]
  },
  {
   "cell_type": "code",
   "execution_count": 2,
   "id": "92be16d7",
   "metadata": {},
   "outputs": [
    {
     "name": "stdout",
     "output_type": "stream",
     "text": [
      "hello world\n"
     ]
    }
   ],
   "source": [
    "a ='hello'\n",
    "b = ' world'\n",
    "c = a+b\n",
    "print(c)"
   ]
  },
  {
   "cell_type": "code",
   "execution_count": 3,
   "id": "7586a708",
   "metadata": {},
   "outputs": [
    {
     "name": "stdout",
     "output_type": "stream",
     "text": [
      "hello world hello world \n"
     ]
    }
   ],
   "source": [
    "a = 'hello world '\n",
    "print(a*2)"
   ]
  },
  {
   "cell_type": "code",
   "execution_count": 4,
   "id": "f11ef07c",
   "metadata": {},
   "outputs": [
    {
     "name": "stdout",
     "output_type": "stream",
     "text": [
      "h\n",
      "e\n",
      "l\n",
      "l\n",
      "o\n",
      "d\n",
      "l\n"
     ]
    }
   ],
   "source": [
    "a = 'hello world'\n",
    "print(a[0])\n",
    "a = 'hello world'\n",
    "print(a[1])\n",
    "a = 'hello world'\n",
    "print(a[2])\n",
    "a = 'hello world'\n",
    "print(a[3])\n",
    "a = 'hello world'\n",
    "print(a[4])\n",
    "a = 'hello world'\n",
    "print(a[-1])\n",
    "a = 'hello world'\n",
    "print(a[-2])\n"
   ]
  },
  {
   "cell_type": "code",
   "execution_count": 5,
   "id": "ce143a1b",
   "metadata": {},
   "outputs": [
    {
     "name": "stdout",
     "output_type": "stream",
     "text": [
      "hello w\n"
     ]
    }
   ],
   "source": [
    "a = 'hello world'\n",
    "print(a[0:7])"
   ]
  },
  {
   "cell_type": "code",
   "execution_count": 6,
   "id": "781f3d34",
   "metadata": {},
   "outputs": [
    {
     "name": "stdout",
     "output_type": "stream",
     "text": [
      "hlowrd\n"
     ]
    }
   ],
   "source": [
    "a = 'hello world'\n",
    "print(a[0:11:2])"
   ]
  },
  {
   "cell_type": "code",
   "execution_count": 7,
   "id": "84083394",
   "metadata": {},
   "outputs": [
    {
     "name": "stdout",
     "output_type": "stream",
     "text": [
      "11\n"
     ]
    }
   ],
   "source": [
    "a = 'hello_world'\n",
    "print(len(a))"
   ]
  },
  {
   "cell_type": "code",
   "execution_count": 8,
   "id": "4743aba3",
   "metadata": {},
   "outputs": [
    {
     "name": "stdout",
     "output_type": "stream",
     "text": [
      "hello world"
     ]
    }
   ],
   "source": [
    "a = 'hello world'\n",
    "for i in range(len(a)):\n",
    "    print(a[i], end=\"\")"
   ]
  },
  {
   "cell_type": "code",
   "execution_count": 9,
   "id": "5f341171",
   "metadata": {},
   "outputs": [
    {
     "name": "stdout",
     "output_type": "stream",
     "text": [
      "h\n",
      "e\n",
      "l\n",
      "l\n",
      "o\n",
      " \n",
      "w\n",
      "o\n",
      "r\n",
      "l\n",
      "d\n"
     ]
    }
   ],
   "source": [
    "i = 0\n",
    "a =\"hello world\"\n",
    "while i<len(a):\n",
    "    print(a[i])\n",
    "    i=i+1"
   ]
  },
  {
   "cell_type": "code",
   "execution_count": 10,
   "id": "ace3fd26",
   "metadata": {},
   "outputs": [
    {
     "name": "stdout",
     "output_type": "stream",
     "text": [
      "Hello i am hey. i am from ktm. i am 20\n"
     ]
    }
   ],
   "source": [
    "#string formating\n",
    "name = \"hey\"\n",
    "add = 'ktm'\n",
    "age = 20\n",
    "#info = 'hy i am '+name + 'i am '+str(age)+'years old'+'i live in '+add\n",
    "info = f\"Hello i am {name}. i am from {add}. i am {age}\"\n",
    "print(info)"
   ]
  },
  {
   "cell_type": "markdown",
   "id": "74d65ee0",
   "metadata": {},
   "source": []
  },
  {
   "cell_type": "code",
   "execution_count": 1,
   "id": "f56153b5",
   "metadata": {},
   "outputs": [
    {
     "name": "stdout",
     "output_type": "stream",
     "text": [
      "enter n2\n",
      "enter your nameh\n",
      "enter your num999\n",
      "h 999\n",
      "\n",
      "enter your namejj\n",
      "enter your num99\n",
      "h 999\n",
      "jj 99\n",
      "\n"
     ]
    }
   ],
   "source": [
    "#s = str()\n",
    "s = \"\"\n",
    "i = 0\n",
    "n =int(input(\"enter n\"))\n",
    "while i<n:\n",
    "    name = input(\"enter your name\")\n",
    "    phone= input(\"enter your num\")\n",
    "    s = s + f'{name} {phone}\\n'\n",
    "    i = i+1\n",
    "    print(s)"
   ]
  },
  {
   "cell_type": "raw",
   "id": "63a462b0",
   "metadata": {},
   "source": []
  },
  {
   "cell_type": "code",
   "execution_count": null,
   "id": "c43f9c1c",
   "metadata": {},
   "outputs": [],
   "source": [
    "#search in string\n",
    "a = 'ram shyam  hari sita gita bola'\n",
    "search = input('enter search value')\n",
    "if search in a:\n",
    "    print(\"yes\")\n",
    "    \n",
    "else:\n",
    "    print(\"no\")"
   ]
  },
  {
   "cell_type": "code",
   "execution_count": null,
   "id": "69c8ae08",
   "metadata": {},
   "outputs": [],
   "source": [
    "a = 'ram shyam  hari sita gita bola'\n",
    "print(a.upper())\n",
    "print(a.lower())\n",
    "print(a)"
   ]
  },
  {
   "cell_type": "code",
   "execution_count": null,
   "id": "ad7f2fef",
   "metadata": {},
   "outputs": [],
   "source": [
    "a = 'ram shyam  hari sita gita bola'.lower()\n",
    "search = input('enter search value').lower()\n",
    "if search in a:\n",
    "    print(\"yes\")\n",
    "    print(a.count(search))\n",
    "    \n",
    "else:\n",
    "    print(\"no\")"
   ]
  },
  {
   "cell_type": "code",
   "execution_count": null,
   "id": "cb6305c2",
   "metadata": {},
   "outputs": [],
   "source": [
    "#replace\n",
    "a = 'ram shyam  hari sita gita bola'\n",
    "a=a.replace('ram','Ram')\n",
    "print(a)"
   ]
  },
  {
   "cell_type": "code",
   "execution_count": null,
   "id": "4f4eecf9",
   "metadata": {},
   "outputs": [],
   "source": [
    "a = 'ram shyam  hari sita gita bola'\n",
    "a=a.replace('ram','')\n",
    "print(a)"
   ]
  },
  {
   "cell_type": "code",
   "execution_count": 2,
   "id": "61eba338",
   "metadata": {},
   "outputs": [
    {
     "data": {
      "text/plain": [
       "['ram', 'shyam', 'hari', 'sita', 'gita', 'bola']"
      ]
     },
     "execution_count": 2,
     "metadata": {},
     "output_type": "execute_result"
    }
   ],
   "source": [
    "a = 'ram shyam  hari sita gita bola'\n",
    "a.split()"
   ]
  },
  {
   "cell_type": "code",
   "execution_count": 9,
   "id": "20f2fa56",
   "metadata": {},
   "outputs": [
    {
     "name": "stdout",
     "output_type": "stream",
     "text": [
      "number of blank 4\n"
     ]
    }
   ],
   "source": [
    "i = 1\n",
    "count = 0\n",
    "a =\"hello world i am python\"\n",
    "while i< (len(a)):\n",
    "    \n",
    "    if a[i]==\" \":\n",
    "        #print(i)\n",
    "        count = count+1\n",
    "    i=i+1\n",
    "print(\"number of blank\",count)"
   ]
  },
  {
   "cell_type": "code",
   "execution_count": null,
   "id": "dc3eabda",
   "metadata": {},
   "outputs": [],
   "source": [
    "#python data collection\n",
    "#list\n",
    "#tuple\n",
    "#dict\n",
    "#set"
   ]
  },
  {
   "cell_type": "code",
   "execution_count": null,
   "id": "cdce0619",
   "metadata": {},
   "outputs": [],
   "source": [
    "#list\n",
    "#indexing\n",
    "#mutablele and duplicate data\n",
    "#ordered\n",
    "#mutable\n"
   ]
  },
  {
   "cell_type": "code",
   "execution_count": 2,
   "id": "75083efd",
   "metadata": {},
   "outputs": [
    {
     "name": "stdout",
     "output_type": "stream",
     "text": [
      "<class 'list'>\n",
      "<class 'list'>\n"
     ]
    }
   ],
   "source": [
    "#list\n",
    "l =[\"apple\",\"ball\",\"cat\"]\n",
    "a = [1,2,3,4,5,6]\n",
    "print(type(l))\n",
    "print(type(a))"
   ]
  },
  {
   "cell_type": "code",
   "execution_count": 3,
   "id": "6e5a7639",
   "metadata": {},
   "outputs": [
    {
     "name": "stdout",
     "output_type": "stream",
     "text": [
      "['apple', 'ball', 'cat']\n",
      "apple\n",
      "['apple', 'ball', 'cat']\n",
      "['apple', 'ball', 'cat']\n",
      "['apple', 'cat']\n"
     ]
    }
   ],
   "source": [
    "l =[\"apple\",\"ball\",\"cat\"]\n",
    "print(l)\n",
    "print(l[0])\n",
    "print(l[0:4])\n",
    "print(l[0:4])\n",
    "print(l[0:5:2])\n",
    "\n",
    "\n"
   ]
  },
  {
   "cell_type": "code",
   "execution_count": 4,
   "id": "e13de26f",
   "metadata": {},
   "outputs": [
    {
     "name": "stdout",
     "output_type": "stream",
     "text": [
      "[1, 2, 3, 4, 5, 6, 7, 8, 9, 10]\n"
     ]
    }
   ],
   "source": [
    "a =[1,2,3,4,5]\n",
    "b= [6,7,8,9,10]\n",
    "c = a+b\n",
    "print(c)"
   ]
  },
  {
   "cell_type": "code",
   "execution_count": 5,
   "id": "afcc34c9",
   "metadata": {},
   "outputs": [
    {
     "name": "stdout",
     "output_type": "stream",
     "text": [
      "[1, 2, 3, 4, 1, 2, 3, 4]\n"
     ]
    }
   ],
   "source": [
    "a =[1,2,3,4]\n",
    "print(a*2)"
   ]
  },
  {
   "cell_type": "code",
   "execution_count": 6,
   "id": "1c91621f",
   "metadata": {},
   "outputs": [
    {
     "name": "stdout",
     "output_type": "stream",
     "text": [
      "apple\n",
      "ball\n",
      "cat\n"
     ]
    }
   ],
   "source": [
    "l =[\"apple\",\"ball\",\"cat\"]\n",
    "for i in l:\n",
    "    print(i)"
   ]
  },
  {
   "cell_type": "code",
   "execution_count": 8,
   "id": "09d805f2",
   "metadata": {},
   "outputs": [
    {
     "name": "stdout",
     "output_type": "stream",
     "text": [
      "enter searhcat\n",
      "yes\n",
      "1\n"
     ]
    }
   ],
   "source": [
    "l =[\"apple\",\"ball\",\"cat\"]\n",
    "search= input('enter searh')\n",
    "if search in l:\n",
    "    print('yes')\n",
    "    print(l.count(search))\n",
    "else:\n",
    "    print(\"no\")"
   ]
  },
  {
   "cell_type": "code",
   "execution_count": 12,
   "id": "252ea1d2",
   "metadata": {},
   "outputs": [
    {
     "name": "stdout",
     "output_type": "stream",
     "text": [
      "['apple', 'ball', 'cat']\n"
     ]
    }
   ],
   "source": [
    "#append() ectend() insert()\n",
    "a=[]\n",
    "a.append('apple')\n",
    "a.append('ball')\n",
    "a.append('cat')\n",
    "print(a)"
   ]
  },
  {
   "cell_type": "code",
   "execution_count": 16,
   "id": "e0390d96",
   "metadata": {},
   "outputs": [
    {
     "name": "stdout",
     "output_type": "stream",
     "text": [
      "enter the num3\n",
      "enter the x1\n",
      "enter the x2\n",
      "enter the x3\n",
      "[1, 2, 3]\n"
     ]
    }
   ],
   "source": [
    "l = []\n",
    "n = int(input('enter the num'))\n",
    "for i in range(n):\n",
    "    x=int(input(\"enter the x\"))\n",
    "    l.append(x)\n",
    "print(l)"
   ]
  },
  {
   "cell_type": "code",
   "execution_count": 19,
   "id": "048465b8",
   "metadata": {},
   "outputs": [
    {
     "name": "stdout",
     "output_type": "stream",
     "text": [
      "maximum value 456\n",
      "minimum value 1\n",
      "sum of list 567\n",
      "[1, 12, 13, 14, 15, 56, 456]\n"
     ]
    }
   ],
   "source": [
    "l=[12,13,14,15,1,456,56]\n",
    "print('maximum value',max(l))\n",
    "print('minimum value',min(l))\n",
    "print(\"sum of list\",sum(l))\n",
    "l.sort()\n",
    "print(l)\n"
   ]
  },
  {
   "cell_type": "code",
   "execution_count": 22,
   "id": "fe832aee",
   "metadata": {},
   "outputs": [
    {
     "name": "stdout",
     "output_type": "stream",
     "text": [
      "['apple', 'ball', 'cat', 'zabra']\n"
     ]
    }
   ],
   "source": [
    "a = ['ball','zabra','apple','cat']\n",
    "a.sort()\n",
    "print(a)"
   ]
  },
  {
   "cell_type": "code",
   "execution_count": 24,
   "id": "8ae207ad",
   "metadata": {},
   "outputs": [
    {
     "name": "stdout",
     "output_type": "stream",
     "text": [
      "['ball', 'Add', 'zabra', 'apple', 'cat']\n"
     ]
    }
   ],
   "source": [
    "a = ['ball','zabra','apple','cat']\n",
    "a.insert(1,'Add')\n",
    "print(a)"
   ]
  },
  {
   "cell_type": "code",
   "execution_count": 25,
   "id": "05f43e0c",
   "metadata": {},
   "outputs": [
    {
     "name": "stdout",
     "output_type": "stream",
     "text": [
      "[1, 23, 4, 5, 6, 7, 9, 10, 12, 13, 14]\n"
     ]
    }
   ],
   "source": [
    "a = [1,23,4,5,6,7]\n",
    "b=[9,10,12,13,14]\n",
    "a.extend(b)\n",
    "print(a)"
   ]
  },
  {
   "cell_type": "code",
   "execution_count": 29,
   "id": "19321bf7",
   "metadata": {},
   "outputs": [
    {
     "name": "stdout",
     "output_type": "stream",
     "text": [
      "['ball', 'apple', 'cat']\n"
     ]
    }
   ],
   "source": [
    "#del remove() pop()\n",
    "a = ['ball','zabra','apple','cat']\n",
    "del a[1]\n",
    "print(a)"
   ]
  },
  {
   "cell_type": "code",
   "execution_count": 31,
   "id": "0020e1c4",
   "metadata": {},
   "outputs": [
    {
     "name": "stdout",
     "output_type": "stream",
     "text": [
      "['cat', 'ball', 'zabra', 'apple', 'cat']\n"
     ]
    }
   ],
   "source": [
    "a = ['ball','zabra','apple','cat','ball','zabra','apple','cat']\n",
    "del a[0:3]\n",
    "print(a)\n"
   ]
  },
  {
   "cell_type": "code",
   "execution_count": 38,
   "id": "8dbbdbf8",
   "metadata": {},
   "outputs": [
    {
     "name": "stdout",
     "output_type": "stream",
     "text": [
      "['zabra', 'apple', 'cat', 'zabra', 'apple', 'cat']\n"
     ]
    }
   ],
   "source": [
    "a = ['ball','zabra','apple','cat','ball','zabra','apple','cat']\n",
    "c= a.count('ball')\n",
    "for i in range(c):\n",
    "    a.remove('ball')\n",
    "\n",
    "print(a)"
   ]
  },
  {
   "cell_type": "code",
   "execution_count": 1,
   "id": "6e330adb",
   "metadata": {},
   "outputs": [
    {
     "name": "stdout",
     "output_type": "stream",
     "text": [
      "0\n",
      "6\n",
      "7\n",
      "8\n",
      "9\n"
     ]
    }
   ],
   "source": [
    "l = ['apple','cat','ball','orange','fish','curry','apple',\"apple\",\"apple\",\"apple\"]\n",
    "count = len(l)\n",
    "for i in range(count):\n",
    "    if 'apple' == l[i]:\n",
    "        print(i)\n",
    "       # count=count+1\n",
    "        #print(l[i])\n",
    "        #print(l.index(\"apple\"))\n"
   ]
  },
  {
   "cell_type": "code",
   "execution_count": 3,
   "id": "a4cb993d",
   "metadata": {},
   "outputs": [
    {
     "name": "stdout",
     "output_type": "stream",
     "text": [
      "[[1, 2, 3], [4, 5, 6], [7, 8, 9]]\n"
     ]
    }
   ],
   "source": [
    "#list inside list\n",
    "l =[[1,2,3],\n",
    "   [4,5,6],\n",
    "   [7,8,9]]\n",
    "print(l)"
   ]
  },
  {
   "cell_type": "code",
   "execution_count": 6,
   "id": "ae30a4c0",
   "metadata": {},
   "outputs": [
    {
     "name": "stdout",
     "output_type": "stream",
     "text": [
      "[['ram', 45, 'kathmandu'], ['shyam', 30, 'chitwan'], ['aadesh', 90, 'mugling']]\n",
      "['ram', 45, 'kathmandu']\n",
      "45\n"
     ]
    }
   ],
   "source": [
    "a = [['ram',45,'kathmandu'],\n",
    "    ['shyam',30,'chitwan'],\n",
    "    ['aadesh',90,'mugling']]\n",
    "print(a)\n",
    "print(a[0])\n",
    "print(a[0][1])"
   ]
  },
  {
   "cell_type": "code",
   "execution_count": null,
   "id": "cf13f1eb",
   "metadata": {},
   "outputs": [],
   "source": [
    "l = []\n",
    "n = int(input(\"Enter n = \"))\n",
    "for i in range(n):\n",
    "    name = input(\"Enter name = \")\n",
    "    age = int(input(\"Enter age = \"))\n",
    "    add = input(\"Enter add = \")\n",
    "    m = [name,age,add]\n",
    "    l.append(m)\n",
    "    \n",
    "print(l)"
   ]
  },
  {
   "cell_type": "code",
   "execution_count": null,
   "id": "b48de8e6",
   "metadata": {},
   "outputs": [],
   "source": [
    "l = [['Ram', 34, 'Kathmandu'], ['Bharat', 34, 'Kathmandu']]\n",
    "l.append([\"Hari\",23,\"Lalitpur\"])\n",
    "print(l)\n",
    "del l[2]"
   ]
  },
  {
   "cell_type": "code",
   "execution_count": null,
   "id": "6ef5642b",
   "metadata": {},
   "outputs": [],
   "source": [
    "# search\n",
    "l = [['Ram', 34, 'Kathmandu'],\n",
    "     ['Bharat', 34, 'Kathmandu'],\n",
    "     ['Ram', 23, 'Lalitpur']]\n",
    "\n",
    "name = input(\"Enter name = \")\n",
    "for i in l:\n",
    "    if name in i:\n",
    "        print(i)"
   ]
  },
  {
   "cell_type": "code",
   "execution_count": 17,
   "id": "cd0f0c19",
   "metadata": {},
   "outputs": [
    {
     "name": "stdout",
     "output_type": "stream",
     "text": [
      "Yes\n"
     ]
    }
   ],
   "source": [
    "a = [[\"Apple\"],[\"Ball\"],[\"Cat\"]]\n",
    "for i in a:\n",
    "    if \"Apple\" in i:\n",
    "        print(\"Yes\")"
   ]
  },
  {
   "cell_type": "code",
   "execution_count": 18,
   "id": "157e2073",
   "metadata": {},
   "outputs": [
    {
     "data": {
      "text/plain": [
       "['Rama', 34, 'Kathmandu']"
      ]
     },
     "execution_count": 18,
     "metadata": {},
     "output_type": "execute_result"
    }
   ],
   "source": [
    "#Update\n",
    "l = ['Ram', 34, 'Kathmandu']\n",
    "l[0] = \"Rama\"\n",
    "l"
   ]
  },
  {
   "cell_type": "code",
   "execution_count": 19,
   "id": "407e12a5",
   "metadata": {},
   "outputs": [
    {
     "data": {
      "text/plain": [
       "[['Rama', 34, 'Kathmandu'],\n",
       " ['Bharat', 34, 'Kathmandu'],\n",
       " ['Ram', 23, 'Lalitpur']]"
      ]
     },
     "execution_count": 19,
     "metadata": {},
     "output_type": "execute_result"
    }
   ],
   "source": [
    "l = [['Ram', 34, 'Kathmandu'],\n",
    "     ['Bharat', 34, 'Kathmandu'],\n",
    "     ['Ram', 23, 'Lalitpur']]\n",
    "l[0][0] = \"Rama\"\n",
    "l"
   ]
  },
  {
   "cell_type": "code",
   "execution_count": 20,
   "id": "529b0a62",
   "metadata": {},
   "outputs": [],
   "source": [
    "# WAP to create a matrix by taking input from user\n",
    "# r -> ?\n",
    "# c -> ?\n",
    "# x -> [[1,2,3],[4,5,6],[8,9,0]]\n",
    "#y  -> []"
   ]
  },
  {
   "cell_type": "code",
   "execution_count": 5,
   "id": "de194b38",
   "metadata": {},
   "outputs": [
    {
     "name": "stdout",
     "output_type": "stream",
     "text": [
      "Enter r = 4\n",
      "Enter c = 4\n",
      "Enter z = 2\n",
      "Enter z = 3\n",
      "Enter z = 4\n",
      "Enter z = 5\n",
      "Enter z = 6\n",
      "Enter z = 7\n",
      "Enter z = 8\n",
      "Enter z = 9\n",
      "Enter z = 23\n",
      "Enter z = 34\n",
      "Enter z = 45\n",
      "Enter z = 56\n",
      "Enter z = 76\n",
      "Enter z = 78\n",
      "Enter z = 34\n",
      "Enter z = 22\n",
      "[[2, 3, 4, 5], [6, 7, 8, 9], [23, 34, 45, 56], [76, 78, 34, 22]]\n"
     ]
    }
   ],
   "source": [
    "x = []\n",
    "r = int(input(\"Enter r = \"))\n",
    "c = int(input(\"Enter c = \"))\n",
    "for i in range(r):\n",
    "    y = []\n",
    "    for j in range(c):\n",
    "        z = int(input(\"Enter z = \"))\n",
    "        y.append(z)\n",
    "    x.append(y)\n",
    "print(x)"
   ]
  },
  {
   "cell_type": "markdown",
   "id": "525a4bdb",
   "metadata": {},
   "source": []
  },
  {
   "cell_type": "code",
   "execution_count": null,
   "id": "e9971bb8",
   "metadata": {},
   "outputs": [],
   "source": []
  }
 ],
 "metadata": {
  "kernelspec": {
   "display_name": "Python 3 (ipykernel)",
   "language": "python",
   "name": "python3"
  },
  "language_info": {
   "codemirror_mode": {
    "name": "ipython",
    "version": 3
   },
   "file_extension": ".py",
   "mimetype": "text/x-python",
   "name": "python",
   "nbconvert_exporter": "python",
   "pygments_lexer": "ipython3",
   "version": "3.11.5"
  }
 },
 "nbformat": 4,
 "nbformat_minor": 5
}
