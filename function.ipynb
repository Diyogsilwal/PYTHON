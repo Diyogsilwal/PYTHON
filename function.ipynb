{
 "cells": [
  {
   "cell_type": "code",
   "execution_count": 1,
   "id": "5c5c064c",
   "metadata": {},
   "outputs": [],
   "source": [
    " # function\n",
    "# user define\n",
    "# predefine"
   ]
  },
  {
   "cell_type": "code",
   "execution_count": 2,
   "id": "875bb695",
   "metadata": {},
   "outputs": [],
   "source": [
    "# #pre define function\n",
    "# # print(),int(),float(),str(),list(),tuple(),set(),list(),dict\n",
    "# def <fuction name>:\n",
    "#     <operations>\n",
    "# <function_name>()"
   ]
  },
  {
   "cell_type": "code",
   "execution_count": 3,
   "id": "22535253",
   "metadata": {},
   "outputs": [
    {
     "name": "stdout",
     "output_type": "stream",
     "text": [
      "hello world\n"
     ]
    }
   ],
   "source": [
    "def hello():#defining function\n",
    "    print('hello world')\n",
    "hello()#calling the function"
   ]
  },
  {
   "cell_type": "code",
   "execution_count": 8,
   "id": "0f3c1b2d",
   "metadata": {},
   "outputs": [
    {
     "name": "stdout",
     "output_type": "stream",
     "text": [
      "ENter your length=5\n",
      "Enter your breadth6\n",
      "the area is  30\n"
     ]
    }
   ],
   "source": [
    "def area():\n",
    "    l=int(input(\"ENter your length=\")) #local variables\n",
    "    b=int(input(\"Enter your breadth\"))#Local variables\n",
    "    a =l*b\n",
    "    print('the area is ',a)\n",
    "area()"
   ]
  },
  {
   "cell_type": "code",
   "execution_count": 9,
   "id": "3516fe92",
   "metadata": {},
   "outputs": [
    {
     "name": "stdout",
     "output_type": "stream",
     "text": [
      "ENter your length=5\n",
      "Enter your breadth6\n",
      "the area is  30\n"
     ]
    }
   ],
   "source": [
    "def area():\n",
    "    a =l*b\n",
    "    print('the area is ',a)\n",
    "l=int(input(\"ENter your length=\")) #global variables\n",
    "b=int(input(\"Enter your breadth\"))#Global variables\n",
    "area()"
   ]
  },
  {
   "cell_type": "code",
   "execution_count": 11,
   "id": "eef8f464",
   "metadata": {},
   "outputs": [
    {
     "name": "stdout",
     "output_type": "stream",
     "text": [
      "50\n"
     ]
    }
   ],
   "source": [
    "#functiojn with arguments\n",
    "def area(l,b):\n",
    "    a = l*b\n",
    "    print(a)\n",
    "area(10,5)#arguments"
   ]
  },
  {
   "cell_type": "code",
   "execution_count": 12,
   "id": "534d8bda",
   "metadata": {},
   "outputs": [
    {
     "name": "stdout",
     "output_type": "stream",
     "text": [
      "ENter your length=5\n",
      "Enter your breadth5\n",
      "the area is  25\n"
     ]
    }
   ],
   "source": [
    "def area(x,y):\n",
    "    a =x*y\n",
    "    print('the area is ',a)\n",
    "l=int(input(\"ENter your length=\")) #global variables\n",
    "b=int(input(\"Enter your breadth\"))#Global variables\n",
    "area(l,b)"
   ]
  },
  {
   "cell_type": "code",
   "execution_count": 13,
   "id": "3052f7b3",
   "metadata": {},
   "outputs": [
    {
     "name": "stdout",
     "output_type": "stream",
     "text": [
      "enter your namediax\n",
      "enter your age21\n",
      "enter your addressktm\n",
      "Hello my name is diax. I am 21 years old. i live in ktm.\n"
     ]
    }
   ],
   "source": [
    "def info(name,age,add):\n",
    "    print(f'Hello my name is {name}. I am {age} years old. i live in {add}.')\n",
    "name =input(\"enter your name \")\n",
    "age=int(input(\"enter your age \"))\n",
    "add = input(\"enter your address \")\n",
    "info(name,age,add)    "
   ]
  },
  {
   "cell_type": "code",
   "execution_count": 15,
   "id": "e75a514f",
   "metadata": {},
   "outputs": [
    {
     "name": "stdout",
     "output_type": "stream",
     "text": [
      "enter your name diax\n",
      "enter your age 21\n",
      "enter your address ktm\n",
      "Hello my name is diax. I am 21 years old. i live in ktm.\n"
     ]
    }
   ],
   "source": [
    "#list as an argument\n",
    "def info(l):\n",
    "    x,y,z=l\n",
    "    print(f'Hello my name is {x}. I am {y} years old. i live in {z}.')\n",
    "name =input(\"enter your name \")\n",
    "age=int(input(\"enter your age \"))\n",
    "add = input(\"enter your address \")\n",
    "l=[name,age,add]\n",
    "info(l)    "
   ]
  },
  {
   "cell_type": "code",
   "execution_count": 16,
   "id": "dcf5ccfe",
   "metadata": {},
   "outputs": [
    {
     "name": "stdout",
     "output_type": "stream",
     "text": [
      "c\n",
      "java\n",
      "php\n"
     ]
    }
   ],
   "source": [
    "def language(lan=\"python\"):\n",
    "    print(lan)\n",
    "language('c')\n",
    "language('java')\n",
    "language('php')"
   ]
  },
  {
   "cell_type": "code",
   "execution_count": 21,
   "id": "9be9db2e",
   "metadata": {},
   "outputs": [
    {
     "name": "stdout",
     "output_type": "stream",
     "text": [
      "volume 100\n"
     ]
    }
   ],
   "source": [
    "#return type functions\n",
    "def area():\n",
    "    l=10\n",
    "    b=5\n",
    "    a=l*b\n",
    "    return a\n",
    "# print(area())\n",
    "ar = area()\n",
    "h= 2\n",
    "v= ar*h\n",
    "print('volume',v)"
   ]
  },
  {
   "cell_type": "code",
   "execution_count": 26,
   "id": "23ad7993",
   "metadata": {},
   "outputs": [
    {
     "name": "stdout",
     "output_type": "stream",
     "text": [
      "area 50\n",
      "volume 100\n",
      "(50, 100)\n"
     ]
    }
   ],
   "source": [
    "#return type functions\n",
    "def cal():\n",
    "    l=10\n",
    "    b=5\n",
    "    h=2\n",
    "    a=l*b\n",
    "    v=a*h\n",
    "    return a,v\n",
    "# print(area())\n",
    "area,volume = cal()\n",
    "print('area',area)\n",
    "print('volume',volume)\n",
    "print(ar)"
   ]
  },
  {
   "cell_type": "code",
   "execution_count": 28,
   "id": "9a7ddc41",
   "metadata": {},
   "outputs": [
    {
     "name": "stdout",
     "output_type": "stream",
     "text": [
      "ENter your value5\n",
      "enter the breadth5\n",
      "Enter your height5\n",
      "area 25\n",
      "volume 125\n",
      "25 125\n"
     ]
    }
   ],
   "source": [
    "#return type functions\n",
    "def cal(l,b,h):\n",
    "    a=l*b\n",
    "    v=a*h\n",
    "    return a,v\n",
    "l = int(input('ENter your value'))\n",
    "b=int(input(\"enter the breadth\"))\n",
    "h = int(input(\"Enter your height\"))\n",
    "# print(area())\n",
    "area,volume = cal(l,b,h)\n",
    "print('area',area)\n",
    "print('volume',volume)\n",
    "# print(area,volume)"
   ]
  },
  {
   "cell_type": "code",
   "execution_count": 2,
   "id": "4f26ced0",
   "metadata": {},
   "outputs": [
    {
     "name": "stdout",
     "output_type": "stream",
     "text": [
      "Enter the value of a5\n",
      "enter the value of b20\n",
      "enter + - * /+\n",
      "25\n"
     ]
    }
   ],
   "source": [
    "def add(a,b):\n",
    "    return a+b\n",
    "def sub(a,b):\n",
    "    return a-b\n",
    "def mul(a,b):\n",
    "    return a*b\n",
    "def div(a,b):\n",
    "    return a/b\n",
    "def cal():\n",
    "    a = int(input(\"Enter the value of a\"))\n",
    "    b = int(input(\"enter the value of b\"))\n",
    "    o = input(\"enter + - * /\")\n",
    "    if o=='+':\n",
    "        print(add(a,b))\n",
    "    elif o=='-':\n",
    "        print(sub(a,b))\n",
    "        \n",
    "    elif o ==\"*\":\n",
    "        print(mul(a,b))\n",
    "        \n",
    "    elif o ==\"/\":\n",
    "        print(div(a,b))\n",
    "        \n",
    "    else:\n",
    "        print('invalid operator')\n",
    "cal()\n",
    "    \n"
   ]
  },
  {
   "cell_type": "code",
   "execution_count": null,
   "id": "fbfa3d56",
   "metadata": {},
   "outputs": [],
   "source": [
    "# recursive function\n",
    "# def hello():\n",
    "#     print(\"Hello World\")\n",
    "#     hello()\n",
    "    \n",
    "# hello()"
   ]
  },
  {
   "cell_type": "code",
   "execution_count": 2,
   "id": "5b03be06",
   "metadata": {},
   "outputs": [
    {
     "name": "stdout",
     "output_type": "stream",
     "text": [
      "Hello World\n",
      "Enter y for more print y\n",
      "Hello World\n",
      "Enter y for more print f\n"
     ]
    }
   ],
   "source": [
    "def hello():\n",
    "    print(\"Hello World\")\n",
    "    x = input(\"Enter y for more print \")\n",
    "    if x == 'y':\n",
    "        hello()\n",
    "    \n",
    "hello()\n"
   ]
  },
  {
   "cell_type": "code",
   "execution_count": 3,
   "id": "73a4193b",
   "metadata": {},
   "outputs": [
    {
     "name": "stdout",
     "output_type": "stream",
     "text": [
      "25\n"
     ]
    }
   ],
   "source": [
    "# lambda function\n",
    "# lambda <arguments>:<operation>\n",
    "x = lambda a:a**2\n",
    "print(x(5))"
   ]
  },
  {
   "cell_type": "code",
   "execution_count": 4,
   "id": "aa712a1f",
   "metadata": {},
   "outputs": [
    {
     "name": "stdout",
     "output_type": "stream",
     "text": [
      "Enter l = 5\n",
      "enter b= 5\n",
      "25\n"
     ]
    }
   ],
   "source": [
    "area = lambda l,b:l*b\n",
    "l = int(input('Enter l = '))\n",
    "b =int(input('enter b= '))\n",
    "print(area(l,b))"
   ]
  },
  {
   "cell_type": "code",
   "execution_count": 5,
   "id": "0438460d",
   "metadata": {},
   "outputs": [
    {
     "name": "stdout",
     "output_type": "stream",
     "text": [
      "[2, 4, 6, 8, 10]\n"
     ]
    }
   ],
   "source": [
    "# filter()map()\n",
    "# list(filter(lambda<arguments>:<conditions>,list))\n",
    "l = [1,2,3,4,5,6,7,8,9,10]\n",
    "x = list(filter(lambda a: a%2==0,l))\n",
    "print(x)"
   ]
  },
  {
   "cell_type": "code",
   "execution_count": null,
   "id": "0e0a9a13",
   "metadata": {},
   "outputs": [],
   "source": []
  }
 ],
 "metadata": {
  "kernelspec": {
   "display_name": "Python 3 (ipykernel)",
   "language": "python",
   "name": "python3"
  },
  "language_info": {
   "codemirror_mode": {
    "name": "ipython",
    "version": 3
   },
   "file_extension": ".py",
   "mimetype": "text/x-python",
   "name": "python",
   "nbconvert_exporter": "python",
   "pygments_lexer": "ipython3",
   "version": "3.11.5"
  }
 },
 "nbformat": 4,
 "nbformat_minor": 5
}
