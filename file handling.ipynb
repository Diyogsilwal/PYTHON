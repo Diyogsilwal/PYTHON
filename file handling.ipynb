{
 "cells": [
  {
   "cell_type": "code",
   "execution_count": 2,
   "id": "f2904b08",
   "metadata": {},
   "outputs": [],
   "source": [
    "#file \n",
    "# file = open(\"<file_name>\",'<mode>')\n",
    "#file .close()\n",
    "\n",
    "#with open('<file_name>','<mode>') as file:\n",
    "#<operations>\n",
    "# modes\n",
    "# create -> 'x'\n",
    "# read ->'r'\n",
    "# write ->'w'\n",
    "# append->'a'"
   ]
  },
  {
   "cell_type": "code",
   "execution_count": 3,
   "id": "12e179fd",
   "metadata": {},
   "outputs": [],
   "source": [
    "file = open('data .txt','x')\n",
    "file.close()"
   ]
  },
  {
   "cell_type": "code",
   "execution_count": 4,
   "id": "b16dc92e",
   "metadata": {},
   "outputs": [
    {
     "data": {
      "text/plain": [
       "'C:\\\\Users\\\\A S P I R E 5\\\\python_class'"
      ]
     },
     "execution_count": 4,
     "metadata": {},
     "output_type": "execute_result"
    }
   ],
   "source": [
    "pwd"
   ]
  },
  {
   "cell_type": "code",
   "execution_count": 13,
   "id": "9ce7b3cc",
   "metadata": {},
   "outputs": [
    {
     "name": "stdout",
     "output_type": "stream",
     "text": [
      "goldy chutiya\n",
      "dhechy bdsk\n",
      "1.hello\n",
      "2.world\n",
      "3.yreeep\n"
     ]
    }
   ],
   "source": [
    "file = open('data .txt','r')\n",
    "data = file.read()\n",
    "print(data)\n",
    "file.close()\n"
   ]
  },
  {
   "cell_type": "raw",
   "id": "c0a6308f",
   "metadata": {},
   "source": [
    "try\n"
   ]
  },
  {
   "cell_type": "code",
   "execution_count": 14,
   "id": "95036c12",
   "metadata": {},
   "outputs": [
    {
     "name": "stdout",
     "output_type": "stream",
     "text": [
      "file is already there\n"
     ]
    }
   ],
   "source": [
    "try:\n",
    "    file = open('data .txt','x')\n",
    "    file.close()\n",
    "except:\n",
    "    print(\"file is already there\")\n"
   ]
  },
  {
   "cell_type": "code",
   "execution_count": 15,
   "id": "3a046e54",
   "metadata": {
    "scrolled": true
   },
   "outputs": [
    {
     "data": {
      "text/plain": [
       "['goldy chutiya', 'dhechy bdsk', '1.hello', '2.world', '3.yreeep']"
      ]
     },
     "execution_count": 15,
     "metadata": {},
     "output_type": "execute_result"
    }
   ],
   "source": [
    "d=data.split('\\n')\n",
    "d"
   ]
  },
  {
   "cell_type": "code",
   "execution_count": 20,
   "id": "8b94dd21",
   "metadata": {},
   "outputs": [],
   "source": [
    "# write mode\n",
    "file = open('data1.txt','w')\n",
    "file.write('Hello diaz sir')\n",
    "file.close()\n"
   ]
  },
  {
   "cell_type": "code",
   "execution_count": 1,
   "id": "fd055587",
   "metadata": {},
   "outputs": [
    {
     "name": "stdout",
     "output_type": "stream",
     "text": [
      "enter the value of  n2\n",
      "Enter product namechocolate\n",
      "Enter the price of product 500\n",
      "enter the quantity 2\n",
      "Enter product nameicecream\n",
      "Enter the price of product 100\n",
      "enter the quantity 2\n"
     ]
    }
   ],
   "source": [
    "bill =str()\n",
    "n = int(input('enter the value of  n'))\n",
    "for i in range(n):\n",
    "    name = input(\"Enter product name\")\n",
    "    price = float(input(\"Enter the price of product \"))\n",
    "    qty =float(input(\"enter the quantity \"))\n",
    "    total = price*qty\n",
    "    bill = bill + f'{name},{price},{qty},{total}\\n'\n",
    "    file = open('bill.csv','w')\n",
    "    file.write('name,price,qty,total\\n')\n",
    "    file.write(bill)\n",
    "    file.close()"
   ]
  },
  {
   "cell_type": "code",
   "execution_count": 4,
   "id": "d4ad236b",
   "metadata": {},
   "outputs": [
    {
     "data": {
      "text/plain": [
       "'C:\\\\Users\\\\A S P I R E 5\\\\python_class'"
      ]
     },
     "execution_count": 4,
     "metadata": {},
     "output_type": "execute_result"
    }
   ],
   "source": [
    "pwd\n"
   ]
  },
  {
   "cell_type": "code",
   "execution_count": 6,
   "id": "f177db1a",
   "metadata": {},
   "outputs": [
    {
     "data": {
      "text/plain": [
       "21"
      ]
     },
     "execution_count": 6,
     "metadata": {},
     "output_type": "execute_result"
    }
   ],
   "source": [
    "#using append mode\n",
    "file = open('bill1.csv','a')\n",
    "file.write('name,price,qty,total\\n')"
   ]
  },
  {
   "cell_type": "code",
   "execution_count": 8,
   "id": "ba619c76",
   "metadata": {},
   "outputs": [
    {
     "name": "stdout",
     "output_type": "stream",
     "text": [
      "enter the value of  n2\n",
      "Enter product namecoke\n",
      "Enter the price of product 250\n",
      "enter the quantity 2\n",
      "Enter product namefanta\n",
      "Enter the price of product 250\n",
      "enter the quantity 3\n"
     ]
    },
    {
     "data": {
      "text/plain": [
       "43"
      ]
     },
     "execution_count": 8,
     "metadata": {},
     "output_type": "execute_result"
    }
   ],
   "source": [
    "bill =str()\n",
    "n = int(input('enter the value of  n'))\n",
    "for i in range(n):\n",
    "    name = input(\"Enter product name\")\n",
    "    price = float(input(\"Enter the price of product \"))\n",
    "    qty =float(input(\"enter the quantity \"))\n",
    "    total = price*qty\n",
    "    bill = bill + f'{name},{price},{qty},{total}\\n'\n",
    "    \n",
    "file.write(bill)\n"
   ]
  },
  {
   "cell_type": "code",
   "execution_count": 9,
   "id": "a72dd0a2",
   "metadata": {},
   "outputs": [],
   "source": [
    "file.close()"
   ]
  },
  {
   "cell_type": "code",
   "execution_count": 11,
   "id": "a0d88190",
   "metadata": {},
   "outputs": [
    {
     "data": {
      "text/html": [
       "<div>\n",
       "<style scoped>\n",
       "    .dataframe tbody tr th:only-of-type {\n",
       "        vertical-align: middle;\n",
       "    }\n",
       "\n",
       "    .dataframe tbody tr th {\n",
       "        vertical-align: top;\n",
       "    }\n",
       "\n",
       "    .dataframe thead th {\n",
       "        text-align: right;\n",
       "    }\n",
       "</style>\n",
       "<table border=\"1\" class=\"dataframe\">\n",
       "  <thead>\n",
       "    <tr style=\"text-align: right;\">\n",
       "      <th></th>\n",
       "      <th>name</th>\n",
       "      <th>price</th>\n",
       "      <th>qty</th>\n",
       "      <th>total</th>\n",
       "    </tr>\n",
       "  </thead>\n",
       "  <tbody>\n",
       "    <tr>\n",
       "      <th>0</th>\n",
       "      <td>apple</td>\n",
       "      <td>20.0</td>\n",
       "      <td>3.0</td>\n",
       "      <td>60.0</td>\n",
       "    </tr>\n",
       "    <tr>\n",
       "      <th>1</th>\n",
       "      <td>banana</td>\n",
       "      <td>300.0</td>\n",
       "      <td>2.0</td>\n",
       "      <td>600.0</td>\n",
       "    </tr>\n",
       "    <tr>\n",
       "      <th>2</th>\n",
       "      <td>coke</td>\n",
       "      <td>250.0</td>\n",
       "      <td>2.0</td>\n",
       "      <td>500.0</td>\n",
       "    </tr>\n",
       "    <tr>\n",
       "      <th>3</th>\n",
       "      <td>fanta</td>\n",
       "      <td>250.0</td>\n",
       "      <td>3.0</td>\n",
       "      <td>750.0</td>\n",
       "    </tr>\n",
       "  </tbody>\n",
       "</table>\n",
       "</div>"
      ],
      "text/plain": [
       "     name  price  qty  total\n",
       "0   apple   20.0  3.0   60.0\n",
       "1  banana  300.0  2.0  600.0\n",
       "2    coke  250.0  2.0  500.0\n",
       "3   fanta  250.0  3.0  750.0"
      ]
     },
     "execution_count": 11,
     "metadata": {},
     "output_type": "execute_result"
    }
   ],
   "source": [
    "import pandas as pd\n",
    "df = pd.read_csv('bill1.csv')\n",
    "df\n"
   ]
  },
  {
   "cell_type": "code",
   "execution_count": null,
   "id": "ba920725",
   "metadata": {},
   "outputs": [],
   "source": []
  }
 ],
 "metadata": {
  "kernelspec": {
   "display_name": "Python 3 (ipykernel)",
   "language": "python",
   "name": "python3"
  },
  "language_info": {
   "codemirror_mode": {
    "name": "ipython",
    "version": 3
   },
   "file_extension": ".py",
   "mimetype": "text/x-python",
   "name": "python",
   "nbconvert_exporter": "python",
   "pygments_lexer": "ipython3",
   "version": "3.11.5"
  }
 },
 "nbformat": 4,
 "nbformat_minor": 5
}
