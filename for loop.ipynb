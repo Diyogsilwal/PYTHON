{
 "cells": [
  {
   "cell_type": "code",
   "execution_count": null,
   "id": "1308f081",
   "metadata": {},
   "outputs": [],
   "source": [
    "s = 0\n",
    "n = int(input(\"enter the number\"))\n",
    "for i in range(n):\n",
    "    x = int(input(\"enter x\"))\n",
    "    s = s+x\n",
    "print('sum=',s)"
   ]
  },
  {
   "cell_type": "code",
   "execution_count": null,
   "id": "5d21ba77",
   "metadata": {},
   "outputs": [],
   "source": [
    "s = 0\n",
    "n = int(input(\"enter the number\"))\n",
    "for i in range(n):\n",
    "    x = int(input(\"enter x\"))\n",
    "    s = s+x\n",
    "    print('sum=',s)"
   ]
  },
  {
   "cell_type": "code",
   "execution_count": null,
   "id": "a78e65ad",
   "metadata": {},
   "outputs": [],
   "source": [
    "#s=str()\n",
    "s = ''\n",
    "n = int(input(\"enter the number\"))\n",
    "for i in range(n):\n",
    "    x = input(\"enter x\")\n",
    "    y = input(\"enter your num\")\n",
    "    s = s+x+'\\n'+y+'\\n'\n",
    "print(s)"
   ]
  },
  {
   "cell_type": "code",
   "execution_count": null,
   "id": "2a808126",
   "metadata": {},
   "outputs": [],
   "source": [
    "s = ''\n",
    "n = int(input('enter your num'))\n",
    "for i in range(n):\n",
    "    x=input('enter your name')\n",
    "    y =input('enter your num')\n",
    "    s = s+x+'\\n'+y+'\\n'\n",
    "print(s)"
   ]
  },
  {
   "cell_type": "code",
   "execution_count": null,
   "id": "76432eb4",
   "metadata": {},
   "outputs": [],
   "source": [
    "#for loop in string"
   ]
  },
  {
   "cell_type": "code",
   "execution_count": null,
   "id": "2afcab42",
   "metadata": {},
   "outputs": [],
   "source": [
    "a = 'hello world'\n",
    "for i in a:\n",
    "    print(i, end = '')"
   ]
  },
  {
   "cell_type": "code",
   "execution_count": null,
   "id": "b263c744",
   "metadata": {},
   "outputs": [],
   "source": [
    "a = 'hello world'\n",
    "for i in a:\n",
    "    print(i)"
   ]
  },
  {
   "cell_type": "code",
   "execution_count": null,
   "id": "08042e83",
   "metadata": {},
   "outputs": [],
   "source": [
    "a = 'hello world'\n",
    "for i in a:\n",
    "    print(i,'hello world')"
   ]
  },
  {
   "cell_type": "code",
   "execution_count": 1,
   "id": "9fce3bfc",
   "metadata": {},
   "outputs": [
    {
     "name": "stdout",
     "output_type": "stream",
     "text": [
      "hello world i am python"
     ]
    }
   ],
   "source": [
    "a = 'hello world. i am python'\n",
    "for i in a:\n",
    "    if i!='.':\n",
    "        print(i,end=\"\")"
   ]
  },
  {
   "cell_type": "code",
   "execution_count": null,
   "id": "5b7d8f99",
   "metadata": {},
   "outputs": [],
   "source": [
    "a = \"hello world!. i am pyrhon\"\n",
    "for i in a:\n",
    "    if i!='.' and i!='!':\n",
    "        print(i,end=\"\")"
   ]
  },
  {
   "cell_type": "code",
   "execution_count": null,
   "id": "6c70da98",
   "metadata": {},
   "outputs": [],
   "source": [
    "for i in range(5):\n",
    "    print(i*'o')"
   ]
  },
  {
   "cell_type": "code",
   "execution_count": null,
   "id": "1eb6caab",
   "metadata": {},
   "outputs": [],
   "source": [
    "n=5\n",
    "for i in range(5):\n",
    "    print((n-i)*' ',(2*i-1)*'o')"
   ]
  },
  {
   "cell_type": "code",
   "execution_count": null,
   "id": "31f684d3",
   "metadata": {},
   "outputs": [],
   "source": [
    "n=5\n",
    "for i in range(5):\n",
    "    print((n-i)*' ',(2*i-1)*'o')\n",
    "    \n",
    "for i in range(n,0,-1):\n",
    "    print((n-i)*' ',(2*i-1)*'o')"
   ]
  },
  {
   "cell_type": "code",
   "execution_count": null,
   "id": "5933461a",
   "metadata": {},
   "outputs": [],
   "source": [
    "#control statement\n",
    "#break \n",
    "#continue\n",
    "#pass"
   ]
  },
  {
   "cell_type": "code",
   "execution_count": null,
   "id": "d9219b4d",
   "metadata": {},
   "outputs": [],
   "source": [
    "for i in range(10):\n",
    "    if i==5:\n",
    "        break\n",
    "    print(i)\n"
   ]
  },
  {
   "cell_type": "code",
   "execution_count": null,
   "id": "9fde77d9",
   "metadata": {},
   "outputs": [],
   "source": [
    "for i in range(10):\n",
    "    if i==5:\n",
    "        continue\n",
    "    print(i,end=' ')\n"
   ]
  },
  {
   "cell_type": "code",
   "execution_count": null,
   "id": "bad7acd0",
   "metadata": {},
   "outputs": [],
   "source": [
    "for i in range(5):\n",
    "    pass\n"
   ]
  },
  {
   "cell_type": "code",
   "execution_count": 2,
   "id": "caf02453",
   "metadata": {},
   "outputs": [
    {
     "name": "stdout",
     "output_type": "stream",
     "text": [
      "hello world"
     ]
    }
   ],
   "source": [
    "a = 'hello world. i am python'\n",
    "for i in a:\n",
    "    if i =='.':\n",
    "        break\n",
    "    print(i,end='')"
   ]
  },
  {
   "cell_type": "code",
   "execution_count": null,
   "id": "c3518a35",
   "metadata": {},
   "outputs": [],
   "source": [
    "a = 'hello world. i am python.'\n",
    "for i in a:\n",
    "    if i =='.':\n",
    "        continue\n",
    "    print(i,end='')"
   ]
  },
  {
   "cell_type": "code",
   "execution_count": null,
   "id": "654d47b9",
   "metadata": {},
   "outputs": [],
   "source": [
    "n=int(input('enter the value of n'))\n",
    "for i in range(1,n*11):\n",
    "    if i%n!=0:\n",
    "        continue\n",
    "    print(i)"
   ]
  },
  {
   "cell_type": "code",
   "execution_count": null,
   "id": "bde209d6",
   "metadata": {},
   "outputs": [],
   "source": [
    "#while <condition>:\n",
    " #   <operations>\n",
    "    "
   ]
  },
  {
   "cell_type": "code",
   "execution_count": null,
   "id": "9b92bbdd",
   "metadata": {},
   "outputs": [],
   "source": [
    "a = 0\n",
    "while a<5:\n",
    "    print(a,'hello world')\n",
    "    a= a+1"
   ]
  },
  {
   "cell_type": "code",
   "execution_count": null,
   "id": "73aa65c4",
   "metadata": {},
   "outputs": [],
   "source": [
    "a = 1\n",
    "n = int(input('Enter the num'))\n",
    "while a<=10:\n",
    "    print(n,'*',a,'=',a*n)\n",
    "    a=a+1"
   ]
  },
  {
   "cell_type": "code",
   "execution_count": null,
   "id": "d883dcdc",
   "metadata": {},
   "outputs": [],
   "source": [
    "s = 0\n",
    "i = 0\n",
    "n = int(input(\"enter your number\"))\n",
    "while i<n:\n",
    "    x = int(input(\"enter your number\"))\n",
    "    s = s + x\n",
    "    i = i+1\n",
    "print('sum=',s)\n",
    "\n"
   ]
  },
  {
   "cell_type": "markdown",
   "id": "69d3ae75",
   "metadata": {},
   "source": [
    "s = 0\n",
    "i = 0"
   ]
  },
  {
   "cell_type": "code",
   "execution_count": null,
   "id": "982db137",
   "metadata": {},
   "outputs": [],
   "source": [
    "\n",
    "    \n",
    "    "
   ]
  },
  {
   "cell_type": "markdown",
   "id": "fdeb7c1f",
   "metadata": {},
   "source": []
  },
  {
   "cell_type": "code",
   "execution_count": null,
   "id": "68dccbf8",
   "metadata": {},
   "outputs": [],
   "source": [
    "fac = 1\n",
    "i = 1\n",
    "n = int(input(\"enter your num\"))\n",
    "while i<=n:\n",
    "    #\n",
    "    fac = fac*i\n",
    "    i = i+1\n",
    "    print(fac)"
   ]
  },
  {
   "cell_type": "code",
   "execution_count": null,
   "id": "c3fe7297",
   "metadata": {},
   "outputs": [],
   "source": [
    "s = ''\n",
    "n = int(input(\"enter your n\"))\n",
    "i = 0\n",
    "while i<=n:\n",
    "    name = input('enter your name')\n",
    "    phone = input('enter your num')\n",
    "    s = s + name + '\\n' + phone + '\\n'\n",
    "    i = i + 1\n",
    "print(s)\n",
    "    \n"
   ]
  },
  {
   "cell_type": "code",
   "execution_count": 1,
   "id": "98daf3f7",
   "metadata": {},
   "outputs": [
    {
     "name": "stdout",
     "output_type": "stream",
     "text": [
      "0\n",
      "1\n",
      "2\n",
      "3\n",
      "4\n",
      "6\n",
      "7\n",
      "8\n",
      "9\n"
     ]
    }
   ],
   "source": [
    "#control statement in while loop\n",
    "i = 0\n",
    "while i<10:\n",
    "    if i == 5:\n",
    "        i = i+1\n",
    "        continue\n",
    "    print(i)\n",
    "    i = i+1"
   ]
  },
  {
   "cell_type": "code",
   "execution_count": null,
   "id": "9950a693",
   "metadata": {},
   "outputs": [],
   "source": [
    "#wap to find if the given number is prime or compositive"
   ]
  },
  {
   "cell_type": "code",
   "execution_count": 2,
   "id": "a8a6709e",
   "metadata": {},
   "outputs": [
    {
     "name": "stdout",
     "output_type": "stream",
     "text": [
      "enter the value of n9\n",
      "9 compo\n"
     ]
    }
   ],
   "source": [
    "n = int(input('enter the value of n'))\n",
    "i=1\n",
    "count = 0\n",
    "while i<=n:\n",
    "    if n%i==0:\n",
    "        count=count +1\n",
    "    i=i+1\n",
    "    \n",
    "if count ==2:\n",
    "    print(n,'prime')\n",
    "else:\n",
    "    print(n,'compo')\n",
    "    "
   ]
  },
  {
   "cell_type": "code",
   "execution_count": 1,
   "id": "3e53b170",
   "metadata": {},
   "outputs": [
    {
     "name": "stdout",
     "output_type": "stream",
     "text": [
      "how are you dipsoniam from chitwan i love my mom so much she is my heart and i love her today tomorrow and forever from muy7 heart"
     ]
    }
   ],
   "source": [
    "# name='dipson'\n",
    "# friend='rajan'\n",
    "# anotherfriend='pratham'\n",
    "a ='how are you dipsoniam from chitwan i love my mom so much she is my heart and i love her today tomorrow and forever from muy7 heart'\n",
    "\n",
    "\n",
    "# print(\"hello, \" + name)\n",
    "# # print(dipsonhero)\n",
    "# print(friend[0:3])\n",
    "# print(name[0:4])\n",
    "# print(anotherfriend[3:5])\n",
    "# print(dipsonhero)\n",
    "for i in a:\n",
    "    if i =='are':\n",
    "        break\n",
    "    print(i,end='')"
   ]
  },
  {
   "cell_type": "markdown",
   "id": "258db6ab",
   "metadata": {},
   "source": []
  },
  {
   "cell_type": "code",
   "execution_count": null,
   "id": "3d3db6e2",
   "metadata": {},
   "outputs": [],
   "source": []
  }
 ],
 "metadata": {
  "kernelspec": {
   "display_name": "Python 3 (ipykernel)",
   "language": "python",
   "name": "python3"
  },
  "language_info": {
   "codemirror_mode": {
    "name": "ipython",
    "version": 3
   },
   "file_extension": ".py",
   "mimetype": "text/x-python",
   "name": "python",
   "nbconvert_exporter": "python",
   "pygments_lexer": "ipython3",
   "version": "3.11.5"
  }
 },
 "nbformat": 4,
 "nbformat_minor": 5
}
