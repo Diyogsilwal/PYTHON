{
 "cells": [
  {
   "cell_type": "code",
   "execution_count": 1,
   "id": "63abd354",
   "metadata": {},
   "outputs": [],
   "source": [
    "# < > <= >= != ==\n"
   ]
  },
  {
   "cell_type": "code",
   "execution_count": 2,
   "id": "29951a80",
   "metadata": {},
   "outputs": [
    {
     "name": "stdout",
     "output_type": "stream",
     "text": [
      "True\n"
     ]
    }
   ],
   "source": [
    "a = 90\n",
    "print(a>10)"
   ]
  },
  {
   "cell_type": "code",
   "execution_count": 3,
   "id": "c7871d04",
   "metadata": {},
   "outputs": [],
   "source": [
    "#if <condition>:\n",
    "    #<operations>\n",
    "    #eliif <condition>:\n",
    "    #<operation>\n",
    "    \n",
    "    #else\n",
    "   # <operation>"
   ]
  },
  {
   "cell_type": "code",
   "execution_count": null,
   "id": "a46e28fe",
   "metadata": {},
   "outputs": [],
   "source": [
    "x = int(input('enter x ='))\n",
    "if x>0:\n",
    "    print('the nember is positive')\n",
    "else:\n",
    "    print('the number is negative')"
   ]
  },
  {
   "cell_type": "code",
   "execution_count": null,
   "id": "80c679da",
   "metadata": {},
   "outputs": [],
   "source": [
    "x = int(input(\"enter your num\"))\n",
    "if x%2==0:\n",
    "    print(\"the number is even\")\n",
    "else:\n",
    "    print(\"the number is odd\")\n"
   ]
  },
  {
   "cell_type": "code",
   "execution_count": null,
   "id": "9cd3d2fb",
   "metadata": {},
   "outputs": [],
   "source": [
    "a = int(input('enter the value of a'))\n",
    "b= int(input('enter the value of b'))\n",
    "c= int(input('enter the value of c'))\n",
    "if a>b & a>c:\n",
    "    print(\"A is greatest\")\n",
    "elif b>c:\n",
    "    print(\"B is Greatest\")\n",
    "else:\n",
    "    print(\"c is greatest\")\n"
   ]
  },
  {
   "cell_type": "code",
   "execution_count": null,
   "id": "c43c339a",
   "metadata": {},
   "outputs": [],
   "source": [
    "a = int(input('enter the value of a'))\n",
    "b= int(input('enter the value of b'))\n",
    "if a>b:\n",
    "    print(\"A is greatest\")\n",
    "elif b>a:\n",
    "    print(\"B is Greatest\")\n",
    "    "
   ]
  },
  {
   "cell_type": "code",
   "execution_count": null,
   "id": "a992a93c",
   "metadata": {},
   "outputs": [],
   "source": [
    "a = int(input(\"Enter the value of a\"))\n",
    "b = int(input(\"enter the value of b\"))\n",
    "o = input(\"enter + - * /\")\n",
    "if o=='+':\n",
    "    print(a+b)\n",
    "elif o=='-':\n",
    "    print(a-b)\n",
    "elif o ==\"*\":\n",
    "    print(a*b)\n",
    "elif o ==\"/\":\n",
    "    print(a/b)\n",
    "else:\n",
    "    print('invalid operator')\n",
    "    \n",
    "    \n",
    "    "
   ]
  },
  {
   "cell_type": "code",
   "execution_count": null,
   "id": "0857779b",
   "metadata": {},
   "outputs": [],
   "source": [
    "M =int(input(\"enter the marks\"))\n",
    "C =int(input(\"enter the marks\"))\n",
    "P =int(input(\"enter the marks\"))\n",
    "N=int(input(\"enter the marks\"))\n",
    "if m>20 and C>20 and P>20 and N>20:\n",
    "    total= M+C+P+N\n",
    "#print(total)\n",
    "    per= total/5\n",
    "#print(per)\n",
    "\n",
    "if per>=80:\n",
    "    grade = 'A'\n",
    "    \n",
    "elif per>=60:\n",
    "    grade = 'b'\n",
    "elif per>=50:\n",
    "    grade = 'c'\n",
    "elif per>=40:\n",
    "    grade = 'd'\n",
    "else:\n",
    "    grade = 'fail'\n",
    "    \n",
    "print('total',total)\n",
    "print('per',per)\n",
    "print('Grtade',grade)\n",
    "else:\n",
    "    print(\"fail\")\n",
    "    \n",
    "\n",
    "\n",
    "\n",
    "    \n",
    "\n",
    "\n",
    "\n"
   ]
  },
  {
   "cell_type": "markdown",
   "id": "4f02d743",
   "metadata": {},
   "source": [
    "a = 4\n",
    "a"
   ]
  },
  {
   "cell_type": "code",
   "execution_count": null,
   "id": "653bb57c",
   "metadata": {},
   "outputs": [],
   "source": [
    "maths = int(input('enter your number'))\n",
    "sci = int(input('enter your marks'))\n",
    "total = maths+sci\n",
    "per = total/5\n",
    "if per>=80:\n",
    "    grade = 'A'\n",
    "elif per>=70:\n",
    "    grade = 'B'\n",
    "else:\n",
    "    print('fail')\n",
    "    \n",
    "print('total',total)\n",
    "print('percentage',per)\n",
    "print('Grade',grade)\n",
    "  \n",
    "    \n",
    "    "
   ]
  },
  {
   "cell_type": "markdown",
   "id": "a3b75296",
   "metadata": {},
   "source": []
  },
  {
   "cell_type": "code",
   "execution_count": null,
   "id": "e3647467",
   "metadata": {},
   "outputs": [],
   "source": [
    "#logical operators\n",
    "#and &\n",
    "print(True and False)\n",
    "print(False and False)\n",
    "print(False and True)\n",
    "print(True and False)\n",
    "\n"
   ]
  },
  {
   "cell_type": "code",
   "execution_count": null,
   "id": "514218d2",
   "metadata": {},
   "outputs": [],
   "source": [
    "print(True or False)\n",
    "print(False or False)\n",
    "print(False or True)\n",
    "print(True or False)"
   ]
  },
  {
   "cell_type": "code",
   "execution_count": null,
   "id": "ade1ed11",
   "metadata": {},
   "outputs": [],
   "source": [
    "a= int(input('enter the value'))\n",
    "if a>0 and a%2==0:\n",
    "    print('the number is positive and even',a)\n",
    "elif a>=0 and a%2!=0:\n",
    "    print(\"the value is negative and odd \",a)\n",
    "elif a<0 and a%2!=0:\n",
    "    print(\"the value is negative and odd\",a)\n",
    "else:\n",
    "    print('the value is negative and even')"
   ]
  },
  {
   "cell_type": "code",
   "execution_count": null,
   "id": "bbb89c5c",
   "metadata": {},
   "outputs": [],
   "source": [
    "#nested if/else statement\n",
    "#if <conditions>\n",
    "#if<condition>:\n",
    "#<operations>\n",
    "#else:\n",
    "#<operation>\n",
    "#else:\n",
    "#if<conditions>\n",
    "#<opeations>\n",
    "#else:\n",
    "#<operations>\n"
   ]
  },
  {
   "cell_type": "code",
   "execution_count": null,
   "id": "d255a4d4",
   "metadata": {},
   "outputs": [],
   "source": [
    "x = int(input(\"enter the value\"))\n",
    "if x >=0:\n",
    "    if x%2==0:\n",
    "        print('the number is positive and even')\n",
    "    else:\n",
    "        print('the number is positive and odd')\n",
    "else:\n",
    "    if x%2!=0:\n",
    "         print('the number is negative and odd')\n",
    "    else:\n",
    "        print('the number is negative and even')\n",
    "        "
   ]
  },
  {
   "cell_type": "code",
   "execution_count": null,
   "id": "57b7177d",
   "metadata": {},
   "outputs": [],
   "source": [
    "M =int(input(\"enter the marks\"))\n",
    "C =int(input(\"enter the marks\"))\n",
    "P =int(input(\"enter the marks\"))\n",
    "N=int(input(\"enter the marks\"))\n",
    "if M>20 and C>20 and P>20 and N>20:\n",
    "    total= M+C+P+N\n",
    "    per = total/5\n",
    "\n",
    "\n",
    "    if per>80:\n",
    "        grade = 'a'\n",
    "    \n",
    "    \n",
    "\n",
    "    elif per>70:\n",
    "        grade = 'b'\n",
    "    \n",
    "\n",
    "    elif per>60:\n",
    "        grade = 'c'\n",
    "\n",
    "    else:\n",
    "        print('fail')\n",
    "\n",
    "   \n",
    "    \n",
    "    print('total',total)\n",
    "    print('percentage',per)\n",
    "    print('Grade',grade)\n",
    "else:\n",
    "    print('fail')\n",
    "  \n",
    "    \n",
    "                    \n",
    "\n",
    "\n",
    "    \n"
   ]
  },
  {
   "cell_type": "code",
   "execution_count": null,
   "id": "ce05a873",
   "metadata": {},
   "outputs": [],
   "source": [
    "#for\n",
    "#while"
   ]
  },
  {
   "cell_type": "code",
   "execution_count": null,
   "id": "746fd099",
   "metadata": {},
   "outputs": [],
   "source": [
    "#for loop\n",
    "range(5)\n",
    "range(1,5)\n",
    "range(1,10,2)#it increaments by 2\n"
   ]
  },
  {
   "cell_type": "code",
   "execution_count": null,
   "id": "19b4aca5",
   "metadata": {},
   "outputs": [],
   "source": [
    "for i in range(1,15,2):\n",
    "    print(i,'hello world')"
   ]
  },
  {
   "cell_type": "code",
   "execution_count": null,
   "id": "a9bea542",
   "metadata": {},
   "outputs": [],
   "source": [
    "for i in range(10,0,-2):\n",
    "    print(i,'hello world')"
   ]
  },
  {
   "cell_type": "code",
   "execution_count": null,
   "id": "5b411aca",
   "metadata": {},
   "outputs": [],
   "source": [
    "#wap to create a multiplacition table\n"
   ]
  },
  {
   "cell_type": "code",
   "execution_count": null,
   "id": "50aa37e5",
   "metadata": {},
   "outputs": [],
   "source": [
    "a=int(input(\"ENTER THE VALUE \"))\n",
    "for i in range(1,11):\n",
    "    print(a,'*',i,'=',a*i)\n",
    "    "
   ]
  },
  {
   "cell_type": "code",
   "execution_count": null,
   "id": "396d2814",
   "metadata": {},
   "outputs": [],
   "source": [
    "for i in range(5):\n",
    "    x=int(input(\"enter the vlue\"))\n",
    "    print('you entered',x)"
   ]
  },
  {
   "cell_type": "markdown",
   "id": "35909de4",
   "metadata": {},
   "source": [
    "7\n"
   ]
  },
  {
   "cell_type": "code",
   "execution_count": null,
   "id": "5119e107",
   "metadata": {},
   "outputs": [],
   "source": [
    "\n"
   ]
  },
  {
   "cell_type": "code",
   "execution_count": null,
   "id": "a91ed957",
   "metadata": {},
   "outputs": [],
   "source": []
  },
  {
   "cell_type": "markdown",
   "id": "55a01b2e",
   "metadata": {},
   "source": []
  },
  {
   "cell_type": "code",
   "execution_count": null,
   "id": "7ee2ae09",
   "metadata": {},
   "outputs": [],
   "source": []
  }
 ],
 "metadata": {
  "kernelspec": {
   "display_name": "Python 3 (ipykernel)",
   "language": "python",
   "name": "python3"
  },
  "language_info": {
   "codemirror_mode": {
    "name": "ipython",
    "version": 3
   },
   "file_extension": ".py",
   "mimetype": "text/x-python",
   "name": "python",
   "nbconvert_exporter": "python",
   "pygments_lexer": "ipython3",
   "version": "3.11.5"
  }
 },
 "nbformat": 4,
 "nbformat_minor": 5
}
