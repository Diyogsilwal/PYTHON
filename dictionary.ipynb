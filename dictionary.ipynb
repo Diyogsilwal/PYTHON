{
 "cells": [
  {
   "cell_type": "code",
   "execution_count": 1,
   "id": "83e5ce07",
   "metadata": {},
   "outputs": [],
   "source": [
    "#dictionary\n",
    "#indexing\n",
    "#ordered\n",
    "#multiple and duplicate data\n",
    "#mutable"
   ]
  },
  {
   "cell_type": "code",
   "execution_count": 2,
   "id": "4de3e89c",
   "metadata": {},
   "outputs": [],
   "source": [
    "#d = {<key>:<value>, <key>:<value>,...}\n",
    "\n"
   ]
  },
  {
   "cell_type": "code",
   "execution_count": 3,
   "id": "ebf081d5",
   "metadata": {},
   "outputs": [
    {
     "name": "stdout",
     "output_type": "stream",
     "text": [
      "<class 'dict'>\n"
     ]
    }
   ],
   "source": [
    "d = {'a':'apple','b':'ball','c':'cat'}\n",
    "print(type(d))"
   ]
  },
  {
   "cell_type": "code",
   "execution_count": 7,
   "id": "01dfe836",
   "metadata": {},
   "outputs": [
    {
     "name": "stdout",
     "output_type": "stream",
     "text": [
      "apple\n"
     ]
    }
   ],
   "source": [
    "print(d['a'])"
   ]
  },
  {
   "cell_type": "code",
   "execution_count": 8,
   "id": "ec0e2979",
   "metadata": {},
   "outputs": [
    {
     "name": "stdout",
     "output_type": "stream",
     "text": [
      "{'a': 'apple', 'b': 'ball', 'c': 'cat'}\n"
     ]
    }
   ],
   "source": [
    "print(d)"
   ]
  },
  {
   "cell_type": "code",
   "execution_count": 12,
   "id": "1373d516",
   "metadata": {},
   "outputs": [
    {
     "name": "stdout",
     "output_type": "stream",
     "text": [
      "9\n",
      "{'a': 'apple', 'b': 'ball', 'c': 'cow'}\n"
     ]
    }
   ],
   "source": [
    "d = {'a':'apple','b':'ball','c':'cat','c':'cow'}\n",
    "b={1:2,2:4,3:9}\n",
    "print(b[3])\n",
    "print(d)\n"
   ]
  },
  {
   "cell_type": "code",
   "execution_count": 14,
   "id": "491379f9",
   "metadata": {},
   "outputs": [
    {
     "name": "stdout",
     "output_type": "stream",
     "text": [
      "{'a': 'apple', 'b': 'ball', 'c': 'cow', 1: 2, 2: 4, 3: 9}\n"
     ]
    }
   ],
   "source": [
    "d = {'a':'apple','b':'ball','c':'cat','c':'cow'}\n",
    "b={1:2,2:4,3:9}\n",
    "d.update(b)\n",
    "print(d)"
   ]
  },
  {
   "cell_type": "code",
   "execution_count": 17,
   "id": "27810fd6",
   "metadata": {},
   "outputs": [
    {
     "name": "stdout",
     "output_type": "stream",
     "text": [
      "a\n",
      "b\n",
      "c\n"
     ]
    }
   ],
   "source": [
    "d = {'a':'apple','b':'ball','c':'cat','c':'cow'}\n",
    "for i in d:\n",
    "    print(i)"
   ]
  },
  {
   "cell_type": "code",
   "execution_count": 18,
   "id": "eb05a890",
   "metadata": {},
   "outputs": [
    {
     "name": "stdout",
     "output_type": "stream",
     "text": [
      "apple\n",
      "ball\n",
      "cow\n"
     ]
    }
   ],
   "source": [
    "d = {'a':'apple','b':'ball','c':'cat','c':'cow'}\n",
    "for i in d.values():\n",
    "    print(i)"
   ]
  },
  {
   "cell_type": "code",
   "execution_count": 20,
   "id": "0838a90e",
   "metadata": {},
   "outputs": [
    {
     "name": "stdout",
     "output_type": "stream",
     "text": [
      "('a', 'apple')('b', 'ball')('c', 'cow')"
     ]
    }
   ],
   "source": [
    "d = {'a':'apple','b':'ball','c':'cat','c':'cow'}\n",
    "for i in d.items():\n",
    "    print(i,end='')"
   ]
  },
  {
   "cell_type": "code",
   "execution_count": 22,
   "id": "0226b5ba",
   "metadata": {},
   "outputs": [
    {
     "data": {
      "text/plain": [
       "{'a': 'apple', 'b': 'ball', 'c': 'cat'}"
      ]
     },
     "execution_count": 22,
     "metadata": {},
     "output_type": "execute_result"
    }
   ],
   "source": [
    "#create\n",
    "#d = dict{}\n",
    "d ={}\n",
    "d['a']= 'apple'\n",
    "d['b']='ball'\n",
    "d['c']='cat'\n",
    "d"
   ]
  },
  {
   "cell_type": "code",
   "execution_count": 26,
   "id": "011214d7",
   "metadata": {},
   "outputs": [
    {
     "data": {
      "text/plain": [
       "{'a': 'Ant', 'b': 'ball', 'c': 'cow'}"
      ]
     },
     "execution_count": 26,
     "metadata": {},
     "output_type": "execute_result"
    }
   ],
   "source": [
    "#update\n",
    "d = {'a':'apple','b':'ball','c':'cat','c':'cow'}\n",
    "d['a']='Ant'\n",
    "d"
   ]
  },
  {
   "cell_type": "code",
   "execution_count": 32,
   "id": "e9132ec1",
   "metadata": {},
   "outputs": [
    {
     "name": "stdout",
     "output_type": "stream",
     "text": [
      "{'a': 'apple', 'c': 'cow'}\n"
     ]
    }
   ],
   "source": [
    "#delete\n",
    "d = {'a':'apple','b':'ball','c':'cat','c':'cow'}\n",
    "del d['b']\n",
    "print(d)"
   ]
  },
  {
   "cell_type": "code",
   "execution_count": 37,
   "id": "6953f773",
   "metadata": {},
   "outputs": [
    {
     "name": "stdout",
     "output_type": "stream",
     "text": [
      "ball\n",
      "{'a': 'apple', 'c': 'cow'}\n"
     ]
    }
   ],
   "source": [
    "#delete\n",
    "d = {'a':'apple','b':'ball','c':'cat','c':'cow'}\n",
    "b=d.pop('b')\n",
    "print(b)\n",
    "print(d)"
   ]
  },
  {
   "cell_type": "code",
   "execution_count": 38,
   "id": "73d299b3",
   "metadata": {},
   "outputs": [
    {
     "data": {
      "text/plain": [
       "{'Ram': 987655444, 'ham': 967997875, 'hairy': 98765443}"
      ]
     },
     "execution_count": 38,
     "metadata": {},
     "output_type": "execute_result"
    }
   ],
   "source": [
    "#list inside dict\n",
    "info = {'Ram':987655444,'ham':967997875,'hairy':98765443}\n",
    "info"
   ]
  },
  {
   "cell_type": "code",
   "execution_count": 39,
   "id": "b027bce2",
   "metadata": {},
   "outputs": [
    {
     "data": {
      "text/plain": [
       "{'Ram': [987655444, 9897987897],\n",
       " 'ham': [967997875, 9869869698],\n",
       " 'hairy': [98765443, 9876567]}"
      ]
     },
     "execution_count": 39,
     "metadata": {},
     "output_type": "execute_result"
    }
   ],
   "source": [
    "#list inside dict\n",
    "info = {'Ram':[987655444,9897987897],\n",
    "        'ham':[967997875,9869869698],\n",
    "        'hairy':[98765443,9876567]}\n",
    "info"
   ]
  },
  {
   "cell_type": "code",
   "execution_count": 41,
   "id": "209bd6e8",
   "metadata": {},
   "outputs": [
    {
     "name": "stdout",
     "output_type": "stream",
     "text": [
      "[987655444, 9897987897]\n",
      "987655444\n"
     ]
    }
   ],
   "source": [
    "print(info['Ram'])\n",
    "print(info['Ram'][0])\n"
   ]
  },
  {
   "cell_type": "code",
   "execution_count": 45,
   "id": "4904349d",
   "metadata": {},
   "outputs": [
    {
     "data": {
      "text/plain": [
       "{'Ram': [9875435, 9897987897],\n",
       " 'ham': [967997875, 9869869698],\n",
       " 'hairy': [98765443, 9876567]}"
      ]
     },
     "execution_count": 45,
     "metadata": {},
     "output_type": "execute_result"
    }
   ],
   "source": [
    "info['Ram'][0]= 9875435\n",
    "info\n"
   ]
  },
  {
   "cell_type": "code",
   "execution_count": 47,
   "id": "70e78331",
   "metadata": {},
   "outputs": [
    {
     "name": "stdout",
     "output_type": "stream",
     "text": [
      "enter your value adaix\n",
      "enter your value b97655\n",
      "enter your value cktm\n"
     ]
    },
    {
     "data": {
      "text/plain": [
       "{'name': 'daix', 'roll': 97655, 'add': 'ktm'}"
      ]
     },
     "execution_count": 47,
     "metadata": {},
     "output_type": "execute_result"
    }
   ],
   "source": [
    "d ={}\n",
    "d['name']= input(\"enter your value a\")\n",
    "d['roll']=int(input(\"enter your value b\"))\n",
    "d['add']=input(\"enter your value c\")\n",
    "d"
   ]
  },
  {
   "cell_type": "code",
   "execution_count": 1,
   "id": "51c7fcf7",
   "metadata": {},
   "outputs": [
    {
     "name": "stdout",
     "output_type": "stream",
     "text": [
      "enter yur num3\n",
      "enter your  namedaix\n",
      "enter your ntc97879\n",
      "enter your ncell43543\n",
      "enter your  namefsdfs\n",
      "enter your ntc545\n",
      "enter your ncell354\n",
      "enter your  namefdgf\n",
      "enter your ntc253\n",
      "enter your ncell5445\n",
      "{'daix': [97879, 43543], 'fsdfs': [545, 354], 'fdgf': [253, 5445]}\n"
     ]
    }
   ],
   "source": [
    "d = {}\n",
    "n=int(input(\"enter yur num\"))\n",
    "for i in range(n):\n",
    "    name= input(\"enter your  name\")\n",
    "    ntc=int(input(\"enter your ntc\"))\n",
    "    ncell=int(input(\"enter your ncell\"))\n",
    "    d[name]=[ntc,ncell]\n",
    "print(d)\n",
    "    "
   ]
  },
  {
   "cell_type": "code",
   "execution_count": 8,
   "id": "bd445541",
   "metadata": {},
   "outputs": [
    {
     "name": "stdout",
     "output_type": "stream",
     "text": [
      "ram 989797986 7687698\n"
     ]
    }
   ],
   "source": [
    "d = {'name':['ram','shyam'],\n",
    "    'ntc':[989797986,987866986],\n",
    "    'ncell':[7687698,987889]}\n",
    "\n",
    "print(d['name'][0],d['ntc'][0],d['ncell'][0])"
   ]
  },
  {
   "cell_type": "code",
   "execution_count": 6,
   "id": "980c9273",
   "metadata": {},
   "outputs": [
    {
     "name": "stdout",
     "output_type": "stream",
     "text": [
      "enter your num2\n",
      "enter yiur namesf\n",
      "Enter your number NTC24\n",
      "enter your ncell number42\n",
      "enter your addressrfs\n",
      "enter yiur name234\n",
      "Enter your number NTC24324\n",
      "enter your ncell number234324\n",
      "enter your addressfsd\n",
      "{'sf': [24, 42, 'rfs'], '234': [24324, 234324, 'fsd']}\n",
      "enter the operation number 1 for delet, 2 for ........ and 3 for ......1\n"
     ]
    },
    {
     "ename": "KeyError",
     "evalue": "0",
     "output_type": "error",
     "traceback": [
      "\u001b[1;31m---------------------------------------------------------------------------\u001b[0m",
      "\u001b[1;31mKeyError\u001b[0m                                  Traceback (most recent call last)",
      "Cell \u001b[1;32mIn[6], line 12\u001b[0m\n\u001b[0;32m     10\u001b[0m m\u001b[38;5;241m=\u001b[39m \u001b[38;5;28mint\u001b[39m(\u001b[38;5;28minput\u001b[39m(\u001b[38;5;124m\"\u001b[39m\u001b[38;5;124menter the operation number 1 for delet, 2 for ........ and 3 for ......\u001b[39m\u001b[38;5;124m\"\u001b[39m))\n\u001b[0;32m     11\u001b[0m \u001b[38;5;28;01mif\u001b[39;00m m \u001b[38;5;241m==\u001b[39m \u001b[38;5;241m1\u001b[39m:\n\u001b[1;32m---> 12\u001b[0m     \u001b[38;5;28;01mdel\u001b[39;00m d[\u001b[38;5;241m0\u001b[39m]\n\u001b[0;32m     13\u001b[0m     \u001b[38;5;28mprint\u001b[39m(d)\n",
      "\u001b[1;31mKeyError\u001b[0m: 0"
     ]
    }
   ],
   "source": [
    "d ={}\n",
    "n = int(input(\"enter your num\"))\n",
    "for i in range(n):\n",
    "    name=input('enter yiur name')\n",
    "    ntc=int(input('Enter your number NTC'))\n",
    "    ncell=int(input(\"enter your ncell number\"))\n",
    "    address=input(\"enter your address\")\n",
    "    d[name]=[ntc,ncell,address]\n",
    "print(d)\n",
    "m= int(input(\"enter the operation number 1 for delet, 2 for ........ and 3 for ......\"))\n",
    "if m == 1:\n",
    "    del d[0]\n",
    "    print(d)\n",
    "    \n",
    "\n",
    "        \n"
   ]
  },
  {
   "cell_type": "markdown",
   "id": "021c97f3",
   "metadata": {},
   "source": [
    "## "
   ]
  },
  {
   "cell_type": "code",
   "execution_count": 4,
   "id": "b0e6c1d0",
   "metadata": {},
   "outputs": [
    {
     "name": "stdout",
     "output_type": "stream",
     "text": [
      "[{'name': 'ram', 'age': 34, 'add': 'bhaktpur'}, {'name': 'shyam', 'age': 66, 'add': 'kathmandu'}, {'name': 'hairy', 'age': 79, 'add': 'chitwan'}]\n"
     ]
    }
   ],
   "source": [
    "#dict inside list\n",
    "d = [{'name':'ram', 'age':34,'add':\"bhaktpur\"},\n",
    "    {'name':'shyam','age':66,'add':'kathmandu'},\n",
    "    {'name':'hairy','age':79,'add':'chitwan'}]\n",
    "print(d)"
   ]
  },
  {
   "cell_type": "code",
   "execution_count": 9,
   "id": "40f705e0",
   "metadata": {},
   "outputs": [
    {
     "name": "stdout",
     "output_type": "stream",
     "text": [
      "Enter your n=2\n",
      "enter your namefdsf\n",
      "Enter ntc num3424\n",
      "Enter ncell num4234\n",
      "enter your namedfsf\n",
      "Enter ntc num23434\n",
      "Enter ncell num4234\n",
      "[{'name': 'fdsf', 'ntc': '3424', 'ncell': '4234'}, {'name': 'dfsf', 'ntc': '23434', 'ncell': '4234'}]\n",
      "[{'name': 'dfsf', 'ntc': '23434', 'ncell': '4234'}]\n"
     ]
    }
   ],
   "source": [
    "l=[]\n",
    "n = int(input('Enter your n='))\n",
    "for i in range(n):\n",
    "    name = input(\"enter your name\")\n",
    "    ntc = input('Enter ntc num')\n",
    "    ncell = input('Enter ncell num')\n",
    "    d={'name':name,'ntc':ntc,'ncell':ncell}\n",
    "    l.append(d)\n",
    "print(l)\n",
    "del l[0]\n",
    "print(l)\n",
    "    \n",
    "    "
   ]
  },
  {
   "cell_type": "code",
   "execution_count": 11,
   "id": "87e2373b",
   "metadata": {},
   "outputs": [
    {
     "data": {
      "text/plain": [
       "{1: {'name': 'ram', 'age': 34, 'add': 'ktm'},\n",
       " 2: {'name': 'hairy', 'age': 34, 'add': 'bkt'},\n",
       " 3: {'name': 'diax', 'age': 34, 'add': 'lalitpur'}}"
      ]
     },
     "execution_count": 11,
     "metadata": {},
     "output_type": "execute_result"
    }
   ],
   "source": [
    "#dict inside Dict\n",
    "info={1:{'name':'ram','age':34,\"add\":\"ktm\"},\n",
    "      2:{'name':'hairy','age':34,\"add\":\"bkt\"},      \n",
    "      3:{'name':'diax','age':34,\"add\":\"lalitpur\"}} \n",
    "info"
   ]
  },
  {
   "cell_type": "code",
   "execution_count": 14,
   "id": "f3fd1306",
   "metadata": {},
   "outputs": [
    {
     "name": "stdout",
     "output_type": "stream",
     "text": [
      "{'name': 'ram', 'age': 34, 'add': 'ktm'}\n",
      "ram\n",
      "{'name': 'hairy', 'age': 34, 'add': 'bkt'}\n"
     ]
    }
   ],
   "source": [
    "print(info[1])\n",
    "print(info[1]['name'])\n",
    "print(info[2])\n",
    "\n"
   ]
  },
  {
   "cell_type": "code",
   "execution_count": 5,
   "id": "85cf8bc5",
   "metadata": {},
   "outputs": [
    {
     "name": "stdout",
     "output_type": "stream",
     "text": [
      "Enter your num1\n",
      "enter your namehi\n",
      "enter your age5\n",
      "enter your addjs\n",
      "{1: {'name': 'hi', 'age': 5, 'add': 'js'}}\n"
     ]
    }
   ],
   "source": [
    "info={}\n",
    "n = int(input('Enter your num'))\n",
    "for i in range(1,n+1):\n",
    "    name = input(\"enter your name\")\n",
    "    age = int(input(\"enter your age\"))\n",
    "    add= input(\"enter your add\")\n",
    "    d={'name':name,'age':age,'add':add}\n",
    "    info[i]= d\n",
    "print(info)\n",
    "    "
   ]
  },
  {
   "cell_type": "code",
   "execution_count": null,
   "id": "39bbbcc7",
   "metadata": {},
   "outputs": [],
   "source": [
    "info[3]={'name':'Akash','age':'18','add':'kathmandu'}\n"
   ]
  }
 ],
 "metadata": {
  "kernelspec": {
   "display_name": "Python 3 (ipykernel)",
   "language": "python",
   "name": "python3"
  },
  "language_info": {
   "codemirror_mode": {
    "name": "ipython",
    "version": 3
   },
   "file_extension": ".py",
   "mimetype": "text/x-python",
   "name": "python",
   "nbconvert_exporter": "python",
   "pygments_lexer": "ipython3",
   "version": "3.11.5"
  }
 },
 "nbformat": 4,
 "nbformat_minor": 5
}
