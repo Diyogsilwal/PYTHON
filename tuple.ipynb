{
 "cells": [
  {
   "cell_type": "code",
   "execution_count": 1,
   "id": "e031f33d",
   "metadata": {},
   "outputs": [],
   "source": [
    "# tuple\n",
    "# -indexing\n",
    "# -ordered\n",
    "# -multiple and duplicate data\n",
    "#imutable"
   ]
  },
  {
   "cell_type": "code",
   "execution_count": 2,
   "id": "8e9c15b6",
   "metadata": {},
   "outputs": [],
   "source": [
    "t = tuple()\n"
   ]
  },
  {
   "cell_type": "code",
   "execution_count": 3,
   "id": "a49ab8d5",
   "metadata": {},
   "outputs": [
    {
     "name": "stdout",
     "output_type": "stream",
     "text": [
      "<class 'tuple'>\n"
     ]
    }
   ],
   "source": [
    "t =('Apple',\"Ball\",'Cat','Dog')\n",
    "print(type(t))"
   ]
  },
  {
   "cell_type": "code",
   "execution_count": 4,
   "id": "5947a94e",
   "metadata": {},
   "outputs": [
    {
     "name": "stdout",
     "output_type": "stream",
     "text": [
      "<class 'tuple'>\n"
     ]
    }
   ],
   "source": [
    "t =('Apple',)\n",
    "print(type(t))\n"
   ]
  },
  {
   "cell_type": "code",
   "execution_count": 5,
   "id": "9d226317",
   "metadata": {},
   "outputs": [
    {
     "name": "stdout",
     "output_type": "stream",
     "text": [
      "Apple\n"
     ]
    }
   ],
   "source": [
    "t =('Apple',\"Ball\",'Cat','Dog')\n",
    "print(t[0])"
   ]
  },
  {
   "cell_type": "code",
   "execution_count": 6,
   "id": "1512e449",
   "metadata": {},
   "outputs": [],
   "source": [
    "# no append(), insert(),extend()\n",
    "# no update\n",
    "# no del ,remove(),pop()\n",
    "# no sort()\n"
   ]
  },
  {
   "cell_type": "code",
   "execution_count": 7,
   "id": "f04a86cd",
   "metadata": {},
   "outputs": [
    {
     "name": "stdout",
     "output_type": "stream",
     "text": [
      "(1, 2, 3, 4, 5, 3, 4, 5, 6, 7)\n"
     ]
    }
   ],
   "source": [
    "a =(1,2,3,4,5)\n",
    "b = (3,4,5,6,7)\n",
    "c =a+b\n",
    "print(c)"
   ]
  },
  {
   "cell_type": "code",
   "execution_count": 12,
   "id": "b5f34672",
   "metadata": {},
   "outputs": [
    {
     "name": "stdout",
     "output_type": "stream",
     "text": [
      "enter the value n=2\n",
      "enter  your number45\n",
      "enter  your number54\n",
      "(45, 54)\n"
     ]
    }
   ],
   "source": [
    "a=tuple()\n",
    "n=int(input('enter the value n='))\n",
    "for i in range(n):\n",
    "    x = int(input(\"enter  your number\"))\n",
    "    a = a+(x,)\n",
    "print(a)"
   ]
  },
  {
   "cell_type": "code",
   "execution_count": 13,
   "id": "bb89f65b",
   "metadata": {},
   "outputs": [
    {
     "name": "stdout",
     "output_type": "stream",
     "text": [
      "45\n",
      "54\n",
      "99\n"
     ]
    }
   ],
   "source": [
    "print(min(a))\n",
    "print(max(a))\n",
    "print(sum(a))"
   ]
  },
  {
   "cell_type": "code",
   "execution_count": 15,
   "id": "d90f846c",
   "metadata": {},
   "outputs": [
    {
     "data": {
      "text/plain": [
       "('ball', 'cat', 'dog')"
      ]
     },
     "execution_count": 15,
     "metadata": {},
     "output_type": "execute_result"
    }
   ],
   "source": [
    "t = ('apple','ball','cat','dog')\n",
    "t=list(t)\n",
    "del t[0]\n",
    "t=tuple(t)\n",
    "t\n"
   ]
  },
  {
   "cell_type": "code",
   "execution_count": 17,
   "id": "a44793b5",
   "metadata": {},
   "outputs": [
    {
     "name": "stdout",
     "output_type": "stream",
     "text": [
      "('a', 'p', 'p', 'l', 'e')\n",
      "['a', 'p', 'p', 'l', 'e']\n"
     ]
    }
   ],
   "source": [
    "a='apple'\n",
    "print(tuple(a))\n",
    "print(list(a))\n",
    "\n"
   ]
  },
  {
   "cell_type": "code",
   "execution_count": 18,
   "id": "e84974fb",
   "metadata": {},
   "outputs": [],
   "source": [
    "# set \n",
    "# -no indexing\n",
    "# -unordered\n",
    "# -multiple but no duplicate data\n",
    "# -mutable\n"
   ]
  },
  {
   "cell_type": "code",
   "execution_count": 20,
   "id": "06f7762e",
   "metadata": {},
   "outputs": [
    {
     "name": "stdout",
     "output_type": "stream",
     "text": [
      "<class 'set'>\n",
      "{'cat', 'apple', 'Ball'}\n"
     ]
    }
   ],
   "source": [
    "s = set()\n",
    "s ={\"apple\",\"Ball\",\"cat\"}\n",
    "print(type(s))\n",
    "print(s)"
   ]
  },
  {
   "cell_type": "code",
   "execution_count": 22,
   "id": "ef999d13",
   "metadata": {},
   "outputs": [
    {
     "data": {
      "text/plain": [
       "dict"
      ]
     },
     "execution_count": 22,
     "metadata": {},
     "output_type": "execute_result"
    }
   ],
   "source": [
    "s ={}\n",
    "type(s)"
   ]
  },
  {
   "cell_type": "code",
   "execution_count": 24,
   "id": "d08b3f41",
   "metadata": {},
   "outputs": [
    {
     "name": "stdout",
     "output_type": "stream",
     "text": [
      "{'cat', 'elephant', 'ball', 'dog', 'apple'}\n"
     ]
    }
   ],
   "source": [
    "s=set()\n",
    "s.add(\"apple\")\n",
    "s.add(\"ball\")\n",
    "s.add(\"cat\")\n",
    "s.add(\"dog\")\n",
    "s.add(\"elephant\")\n",
    "print(s)"
   ]
  },
  {
   "cell_type": "code",
   "execution_count": 27,
   "id": "a2deba7e",
   "metadata": {},
   "outputs": [
    {
     "name": "stdout",
     "output_type": "stream",
     "text": [
      "enter the value n=2\n",
      "enter  your number43\n",
      "enter  your number43\n",
      "{43}\n"
     ]
    }
   ],
   "source": [
    "a=set()\n",
    "n=int(input('enter the value n='))\n",
    "for i in range(n):\n",
    "    x = int(input(\"enter  your number\"))\n",
    "    \n",
    "    a.add(x)\n",
    "print(a)"
   ]
  },
  {
   "cell_type": "code",
   "execution_count": 29,
   "id": "2f2c9379",
   "metadata": {},
   "outputs": [
    {
     "name": "stdout",
     "output_type": "stream",
     "text": [
      "{1, 2, 4, 5, 6, 7}\n"
     ]
    }
   ],
   "source": [
    "s = {1,2,3,4,5,6,7}\n",
    "s.remove(3)\n",
    "print(s)"
   ]
  },
  {
   "cell_type": "code",
   "execution_count": 30,
   "id": "792d8612",
   "metadata": {},
   "outputs": [
    {
     "name": "stdout",
     "output_type": "stream",
     "text": [
      "{5, 6}\n"
     ]
    }
   ],
   "source": [
    "u={0,1,2,3,4,5,6,7,8,9}\n",
    "a={1,2,3,4,5,6}\n",
    "b={5,6,7,8,9}\n",
    "i = a.intersection(b)\n",
    "print(i)"
   ]
  },
  {
   "cell_type": "code",
   "execution_count": 38,
   "id": "5bdfc490",
   "metadata": {},
   "outputs": [
    {
     "name": "stdout",
     "output_type": "stream",
     "text": [
      "{1, 2, 3, 4, 5, 6, 7, 8, 9}\n"
     ]
    }
   ],
   "source": [
    "u={0,1,2,3,4,5,6,7,8,9}\n",
    "a={1,2,3,4,5,6}\n",
    "b={5,6,7,8,9}\n",
    "un = a.union(b)\n",
    "print(un)"
   ]
  },
  {
   "cell_type": "code",
   "execution_count": 39,
   "id": "ee7d285a",
   "metadata": {},
   "outputs": [
    {
     "name": "stdout",
     "output_type": "stream",
     "text": [
      "{1, 2, 3, 4}\n"
     ]
    }
   ],
   "source": [
    "print(a-b)"
   ]
  },
  {
   "cell_type": "code",
   "execution_count": 40,
   "id": "f3776d1b",
   "metadata": {},
   "outputs": [
    {
     "name": "stdout",
     "output_type": "stream",
     "text": [
      "{8, 9, 7}\n"
     ]
    }
   ],
   "source": [
    "print(b-a)"
   ]
  },
  {
   "cell_type": "code",
   "execution_count": 41,
   "id": "8cfbb85d",
   "metadata": {},
   "outputs": [
    {
     "name": "stdout",
     "output_type": "stream",
     "text": [
      "{0}\n"
     ]
    }
   ],
   "source": [
    "print(u-un)"
   ]
  },
  {
   "cell_type": "code",
   "execution_count": 42,
   "id": "d7345d0c",
   "metadata": {},
   "outputs": [
    {
     "name": "stdout",
     "output_type": "stream",
     "text": [
      "{0}\n"
     ]
    }
   ],
   "source": [
    "print(u-un)"
   ]
  },
  {
   "cell_type": "code",
   "execution_count": 43,
   "id": "55c55745",
   "metadata": {},
   "outputs": [],
   "source": [
    "# inside set\n",
    "# No list\n",
    "# NO dict\n",
    "# no set"
   ]
  },
  {
   "cell_type": "code",
   "execution_count": null,
   "id": "96c3d058",
   "metadata": {},
   "outputs": [],
   "source": [
    "a={\"apple\",\"ball\",\"cat\",\"dog\"}\n",
    "b={(1,2),(3,4),(4,5),(6,7)}"
   ]
  }
 ],
 "metadata": {
  "kernelspec": {
   "display_name": "Python 3 (ipykernel)",
   "language": "python",
   "name": "python3"
  },
  "language_info": {
   "codemirror_mode": {
    "name": "ipython",
    "version": 3
   },
   "file_extension": ".py",
   "mimetype": "text/x-python",
   "name": "python",
   "nbconvert_exporter": "python",
   "pygments_lexer": "ipython3",
   "version": "3.11.5"
  }
 },
 "nbformat": 4,
 "nbformat_minor": 5
}
