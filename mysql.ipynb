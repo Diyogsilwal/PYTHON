{
 "cells": [
  {
   "cell_type": "code",
   "execution_count": 14,
   "id": "8fbb2444",
   "metadata": {},
   "outputs": [],
   "source": [
    "import mysql.connector\n",
    "database = mysql.connector.connect(\n",
    "    host ='localhost',\n",
    "    user ='root',\n",
    "    password ='',\n",
    "    database ='pythoncalss'\n",
    ")\n",
    "db = database.cursor()"
   ]
  },
  {
   "cell_type": "code",
   "execution_count": 15,
   "id": "bb355a06",
   "metadata": {},
   "outputs": [
    {
     "name": "stdout",
     "output_type": "stream",
     "text": [
      "(1, 'diax we lose today', 67, 97, 98, 80, 82, 400, 89.5, 'A')\n",
      "(3, 'Goldy', 89, 88, 86, 86, 84, 400, 86.9, 'A')\n",
      "(4, 'dichu', 87, 90, 95, 87, 92, 400, 89.99, 'A')\n",
      "(5, 'diaz', 94, 94, 96, 96, 0, 85465, 93.0, 'A')\n"
     ]
    }
   ],
   "source": [
    "db.execute(\"SELECT * FROM student where grade ='A'\")\n",
    "result = db.fetchall()\n",
    "for x in result:\n",
    "    print(x)\n",
    "           "
   ]
  },
  {
   "cell_type": "code",
   "execution_count": 4,
   "id": "528d79fa",
   "metadata": {},
   "outputs": [
    {
     "name": "stdout",
     "output_type": "stream",
     "text": [
      "Enter your namediaz\n",
      "enter the marks96\n",
      "enter the marks94\n",
      "enter the marks94\n",
      "enter the marks96\n",
      "Enter the marks85\n"
     ]
    }
   ],
   "source": [
    "#insert\n",
    "#import mysql.connector\n",
    "name=input('Enter your name')\n",
    "M =int(input(\"enter the marks\"))\n",
    "C =int(input(\"enter the marks\"))\n",
    "P =int(input(\"enter the marks\"))\n",
    "N=int(input(\"enter the marks\"))\n",
    "E=int(input(\"Enter the marks\"))\n",
    "if M>20 and C>20 and P>20 and N>20 and E>20:\n",
    "    total= M+C+P+N+E\n",
    "#print(total)\n",
    "    per= total/5\n",
    "#print(per)\n",
    "\n",
    "if per>=80:\n",
    "    grade = 'A'\n",
    "    \n",
    "elif per>=60:\n",
    "    grade = 'b'\n",
    "elif per>=50:\n",
    "    grade = 'c'\n",
    "elif per>=40:\n",
    "    grade = 'd'\n",
    "else:\n",
    "    grade = 'fail'\n",
    "    \n",
    "\n",
    "    \n",
    "sql = f'''insert into student(name,physics,chemistry,maths,English,Total,Per,Grade)\n",
    "values('{name}',{P},{C},{M},{N},{E}{total},{per},'{grade}')'''\n",
    "db.execute(sql)\n",
    "database.commit()\n"
   ]
  },
  {
   "cell_type": "code",
   "execution_count": 12,
   "id": "f4be7401",
   "metadata": {},
   "outputs": [],
   "source": [
    "#update\n",
    "sql=\"UPDATE student SET chemistry = '97', physics = '67' WHERE student.sn = 1\"\n",
    "db.execute(sql)\n",
    "database.commit()"
   ]
  },
  {
   "cell_type": "code",
   "execution_count": 9,
   "id": "89f25bfd",
   "metadata": {},
   "outputs": [
    {
     "name": "stdout",
     "output_type": "stream",
     "text": [
      "enter your subject =maths\n",
      "enter marks = 98\n",
      "Enter sn = 1\n"
     ]
    }
   ],
   "source": [
    "#update\n",
    "subject=input(\"enter your subject =\")\n",
    "marks =int(input(\"enter marks = \"))\n",
    "sn = int(input(\"Enter sn = \"))\n",
    "sql = f\"Update student SET {subject}={marks} WHERE student.sn={sn}\"\n",
    "db.execute(sql)\n",
    "database.commit()"
   ]
  },
  {
   "cell_type": "code",
   "execution_count": 19,
   "id": "d65d415e",
   "metadata": {},
   "outputs": [
    {
     "name": "stdout",
     "output_type": "stream",
     "text": [
      "Enter sn = 5\n"
     ]
    }
   ],
   "source": [
    "#delete\n",
    "sn = int(input(\"Enter sn = \"))\n",
    "sql = f\"DELETE FROM student WHERE sn ={sn}\"\n",
    "db.execute(sql)\n",
    "database.commit()"
   ]
  },
  {
   "cell_type": "code",
   "execution_count": null,
   "id": "7db23072",
   "metadata": {},
   "outputs": [],
   "source": []
  }
 ],
 "metadata": {
  "kernelspec": {
   "display_name": "Python 3 (ipykernel)",
   "language": "python",
   "name": "python3"
  },
  "language_info": {
   "codemirror_mode": {
    "name": "ipython",
    "version": 3
   },
   "file_extension": ".py",
   "mimetype": "text/x-python",
   "name": "python",
   "nbconvert_exporter": "python",
   "pygments_lexer": "ipython3",
   "version": "3.11.5"
  }
 },
 "nbformat": 4,
 "nbformat_minor": 5
}
